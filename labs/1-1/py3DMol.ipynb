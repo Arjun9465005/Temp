{
  "nbformat": 4,
  "nbformat_minor": 0,
  "metadata": {
    "colab": {
      "name": "py3DMol.ipynb",
      "provenance": [],
      "include_colab_link": true
    },
    "kernelspec": {
      "display_name": "Python 3",
      "language": "python",
      "name": "python3"
    },
    "language_info": {
      "codemirror_mode": {
        "name": "ipython",
        "version": 3
      },
      "file_extension": ".py",
      "mimetype": "text/x-python",
      "name": "python",
      "nbconvert_exporter": "python",
      "pygments_lexer": "ipython3",
      "version": "3.6.9"
    }
  },
  "cells": [
    {
      "cell_type": "markdown",
      "metadata": {
        "id": "view-in-github",
        "colab_type": "text"
      },
      "source": [
        "<a href=\"https://colab.research.google.com/github/Arjun9465005/Temp/blob/main/labs/1-1/py3DMol.ipynb\" target=\"_parent\"><img src=\"https://colab.research.google.com/assets/colab-badge.svg\" alt=\"Open In Colab\"/></a>"
      ]
    },
    {
      "cell_type": "markdown",
      "metadata": {
        "id": "cOKChH14H_pR"
      },
      "source": [
        "# Visualizing molecular structures with py3DMol"
      ]
    },
    {
      "cell_type": "markdown",
      "metadata": {
        "id": "75xQSoMVfBt8"
      },
      "source": [
        "In this computer lab, we will visualize the structures of various biomolecules using [py3DMol](https://github.com/avirshup/py3dmol). py3DMol which allows for dependency-free molecular visualization in Jupyter notebooks. py3DMol wraps the [3DMol.js](http://3dmol.csb.pitt.edu/doc/index.html) library for online molecular visualization.\n",
        "\n",
        "This lab is an abbreviated and adapted version of [Lab 02 of IIBM3202 Molecular Modeling and Simulation](https://github.com/pb3lab/ibm3202/blob/master/tutorials/lab02_molviz.ipynb) from the Institute for Biological and Engineering at Pontificia Universidad Catolica de Chile.\n",
        "\n",
        "As a first step, we will need to install the package."
      ]
    },
    {
      "cell_type": "code",
      "source": [
        "try:\n",
        "  import py3Dmol\n",
        "except:\n",
        "  !pip install py3Dmol\n",
        "  import py3Dmol"
      ],
      "metadata": {
        "id": "CSG_YZ81jpRt",
        "colab": {
          "base_uri": "https://localhost:8080/"
        },
        "outputId": "00037c00-9bd5-43f5-c738-756999aa691d"
      },
      "execution_count": 1,
      "outputs": [
        {
          "output_type": "stream",
          "name": "stdout",
          "text": [
            "Collecting py3Dmol\n",
            "  Downloading py3Dmol-2.1.0-py2.py3-none-any.whl (12 kB)\n",
            "Installing collected packages: py3Dmol\n",
            "Successfully installed py3Dmol-2.1.0\n"
          ]
        }
      ]
    },
    {
      "cell_type": "markdown",
      "source": [
        "## Retrieving structures"
      ],
      "metadata": {
        "id": "ot1qMZUp2Z1j"
      }
    },
    {
      "cell_type": "markdown",
      "source": [
        "Now let us look at the structure of an important SARS-CoV-2 drug target, the main protease (MPro). Many structures of this enzyme are available on the [Protein Data Bank](https://www.rcsb.org/), including [5RH2](https://www.rcsb.org/structure/5RH2). This particular structure [helped inspire a clinical candidate](https://doi.org/10.1101/2022.01.26.477782) for COVID-19 treatment.\n",
        "\n",
        "<p align = \"justify\">You can retrieve PDB structures from its website (www.rcsb.org). Alternatively, you can directly use the terminal to download a given PDB file with known accession code as shown below, where XXXX must be replaced by the replaced by the 4-letter PDB code:\n",
        "\n",
        "```\n",
        "!wget http://www.rcsb.org/pdb/files/XXXX.pdb.gz\n",
        "!gunzip XXXX.pdb.gz\n",
        "```"
      ],
      "metadata": {
        "id": "zS-Iten7kCxQ"
      }
    },
    {
      "cell_type": "code",
      "metadata": {
        "id": "S2GfVk67gisv"
      },
      "source": [
        "!wget http://www.rcsb.org/pdb/files/5RH2.pdb.gz\n",
        "!gunzip 5RH2.pdb.gz"
      ],
      "execution_count": null,
      "outputs": []
    },
    {
      "cell_type": "markdown",
      "source": [
        "## Styles"
      ],
      "metadata": {
        "id": "Ui7abw5h2d0S"
      }
    },
    {
      "cell_type": "code",
      "source": [
        "!pip install rdkit"
      ],
      "metadata": {
        "colab": {
          "base_uri": "https://localhost:8080/"
        },
        "id": "H7dJo1bIApiD",
        "outputId": "86c01c87-72fe-4379-9ba2-bc9d882f9662"
      },
      "execution_count": 4,
      "outputs": [
        {
          "output_type": "stream",
          "name": "stdout",
          "text": [
            "Collecting rdkit\n",
            "  Downloading rdkit-2023.9.6-cp310-cp310-manylinux_2_17_x86_64.manylinux2014_x86_64.whl (34.9 MB)\n",
            "\u001b[2K     \u001b[90m━━━━━━━━━━━━━━━━━━━━━━━━━━━━━━━━━━━━━━━━\u001b[0m \u001b[32m34.9/34.9 MB\u001b[0m \u001b[31m7.0 MB/s\u001b[0m eta \u001b[36m0:00:00\u001b[0m\n",
            "\u001b[?25hRequirement already satisfied: numpy in /usr/local/lib/python3.10/dist-packages (from rdkit) (1.25.2)\n",
            "Requirement already satisfied: Pillow in /usr/local/lib/python3.10/dist-packages (from rdkit) (9.4.0)\n",
            "Installing collected packages: rdkit\n",
            "Successfully installed rdkit-2023.9.6\n"
          ]
        }
      ]
    },
    {
      "cell_type": "markdown",
      "source": [
        "Now let's visualize the structure. In the code below, notice that we first add a <i>model</i> and then add <i>styles</i>. The `view.addStyle` function requires an [atom selection](https://3dmol.csb.pitt.edu/doc/types.html#AtomSpec) and a [style specification](https://3dmol.csb.pitt.edu/doc/types.html#AtomStyleSpec). The types of styles include `line`, `stick`, `sphere`, and `cartoon` and properties of the styles include [colorscheme](https://3dmol.csb.pitt.edu/doc/types.html#ColorschemeSpec) or specific [color](https://3dmol.csb.pitt.edu/doc/types.html#ColorSpec)."
      ],
      "metadata": {
        "id": "PStV0l4Mvoxk"
      }
    },
    {
      "cell_type": "code",
      "source": [
        "# prompt: I want to visualize the 3D structure from the smile using py3Dmol\n",
        "\n",
        "import py3Dmol\n",
        "\n",
        "from rdkit import Chem\n",
        "from rdkit.Chem import AllChem\n",
        "\n",
        "def visualize_smiles(smiles):\n",
        "    mol = Chem.MolFromSmiles(smiles)\n",
        "    mol = Chem.AddHs(mol)\n",
        "    AllChem.EmbedMolecule(mol, AllChem.ETKDG())\n",
        "    mol_block = Chem.MolToMolBlock(mol)\n",
        "\n",
        "    viewer = py3Dmol.view(width=600, height=600)\n",
        "    viewer.addModel(mol_block, 'mol')\n",
        "    viewer.setStyle({'stick': {}})\n",
        "\n",
        "    # Label each atom\n",
        "    for atom in mol.GetAtoms():\n",
        "        pos = mol.GetConformer().GetAtomPosition(atom.GetIdx())\n",
        "        viewer.addLabel(atom.GetSymbol() + str(atom.GetIdx()), {'position': {'x': pos.x, 'y': pos.y, 'z': pos.z}, 'fontSize': 12, 'fontColor': 'black', 'backgroundColor': 'white', 'showBackground': True})\n",
        "\n",
        "    viewer.zoomTo()\n",
        "    return viewer.show()\n",
        "\n",
        "\n"
      ],
      "metadata": {
        "id": "YXuB5rP-_5Sd"
      },
      "execution_count": 12,
      "outputs": []
    },
    {
      "cell_type": "code",
      "source": [
        "# Example SMILES string for ethanol\n",
        "smiles = \"C#CC[C@@H](CC(=O)O)NC(=O)OCC1c2ccccc2-c2ccccc21\"\n",
        "visualize_smiles(smiles)"
      ],
      "metadata": {
        "colab": {
          "base_uri": "https://localhost:8080/",
          "height": 617
        },
        "id": "LNl9EejMAxVG",
        "outputId": "52d77351-0e01-4b2a-94b7-afe24f37b161"
      },
      "execution_count": 13,
      "outputs": [
        {
          "output_type": "display_data",
          "data": {
            "application/3dmoljs_load.v0": "<div id=\"3dmolviewer_17189102433519595\"  style=\"position: relative; width: 600px; height: 600px;\">\n        <p id=\"3dmolwarning_17189102433519595\" style=\"background-color:#ffcccc;color:black\">3Dmol.js failed to load for some reason.  Please check your browser console for error messages.<br></p>\n        </div>\n<script>\n\nvar loadScriptAsync = function(uri){\n  return new Promise((resolve, reject) => {\n    //this is to ignore the existence of requirejs amd\n    var savedexports, savedmodule;\n    if (typeof exports !== 'undefined') savedexports = exports;\n    else exports = {}\n    if (typeof module !== 'undefined') savedmodule = module;\n    else module = {}\n\n    var tag = document.createElement('script');\n    tag.src = uri;\n    tag.async = true;\n    tag.onload = () => {\n        exports = savedexports;\n        module = savedmodule;\n        resolve();\n    };\n  var firstScriptTag = document.getElementsByTagName('script')[0];\n  firstScriptTag.parentNode.insertBefore(tag, firstScriptTag);\n});\n};\n\nif(typeof $3Dmolpromise === 'undefined') {\n$3Dmolpromise = null;\n  $3Dmolpromise = loadScriptAsync('https://cdnjs.cloudflare.com/ajax/libs/3Dmol/2.1.0/3Dmol-min.js');\n}\n\nvar viewer_17189102433519595 = null;\nvar warn = document.getElementById(\"3dmolwarning_17189102433519595\");\nif(warn) {\n    warn.parentNode.removeChild(warn);\n}\n$3Dmolpromise.then(function() {\nviewer_17189102433519595 = $3Dmol.createViewer(document.getElementById(\"3dmolviewer_17189102433519595\"),{backgroundColor:\"white\"});\nviewer_17189102433519595.zoomTo();\n\tviewer_17189102433519595.addModel(\"\\n     RDKit          3D\\n\\n 45 47  0  0  0  0  0  0  0  0999 V2000\\n    4.8328   -1.5130    4.0701 C   0  0  0  0  0  0  0  0  0  0  0  0\\n    4.5484   -0.5390    3.4979 C   0  0  0  0  0  0  0  0  0  0  0  0\\n    4.2246    0.6191    2.8184 C   0  0  0  0  0  0  0  0  0  0  0  0\\n    3.7485    0.6329    1.4211 C   0  0  1  0  0  0  0  0  0  0  0  0\\n    4.8027   -0.2301    0.5937 C   0  0  0  0  0  0  0  0  0  0  0  0\\n    4.5849   -1.6521    1.0536 C   0  0  0  0  0  0  0  0  0  0  0  0\\n    3.5707   -2.1947    1.2658 O   0  0  0  0  0  0  0  0  0  0  0  0\\n    5.8185   -2.3794    1.2422 O   0  0  0  0  0  0  0  0  0  0  0  0\\n    2.4869    0.0700    1.2066 N   0  0  0  0  0  0  0  0  0  0  0  0\\n    1.6496    0.2934    0.1248 C   0  0  0  0  0  0  0  0  0  0  0  0\\n    1.9777    1.0205   -0.8658 O   0  0  0  0  0  0  0  0  0  0  0  0\\n    0.3165   -0.2576   -0.0112 O   0  0  0  0  0  0  0  0  0  0  0  0\\n   -0.3813    0.2518   -1.1761 C   0  0  0  0  0  0  0  0  0  0  0  0\\n   -1.7057   -0.3843   -1.2891 C   0  0  0  0  0  0  0  0  0  0  0  0\\n   -2.6065   -0.1383   -0.1276 C   0  0  0  0  0  0  0  0  0  0  0  0\\n   -2.3289    0.0292    1.2527 C   0  0  0  0  0  0  0  0  0  0  0  0\\n   -3.3875    0.1332    2.1626 C   0  0  0  0  0  0  0  0  0  0  0  0\\n   -4.6242    0.0471    1.6373 C   0  0  0  0  0  0  0  0  0  0  0  0\\n   -4.9765   -0.1073    0.2686 C   0  0  0  0  0  0  0  0  0  0  0  0\\n   -3.8735   -0.1915   -0.5810 C   0  0  0  0  0  0  0  0  0  0  0  0\\n   -3.8293   -0.0015   -2.1413 C   0  0  0  0  0  0  0  0  0  0  0  0\\n   -4.9347    0.1895   -2.8774 C   0  0  0  0  0  0  0  0  0  0  0  0\\n   -4.5370    0.7074   -4.3064 C   0  0  0  0  0  0  0  0  0  0  0  0\\n   -3.2434    0.8600   -4.4753 C   0  0  0  0  0  0  0  0  0  0  0  0\\n   -2.1695    0.6499   -3.6958 C   0  0  0  0  0  0  0  0  0  0  0  0\\n   -2.5481    0.1469   -2.3606 C   0  0  0  0  0  0  0  0  0  0  0  0\\n    5.1276   -2.5268    4.6782 H   0  0  0  0  0  0  0  0  0  0  0  0\\n    5.2023    1.2737    2.8614 H   0  0  0  0  0  0  0  0  0  0  0  0\\n    3.5179    1.2860    3.4306 H   0  0  0  0  0  0  0  0  0  0  0  0\\n    3.8639    1.6309    1.0235 H   0  0  0  0  0  0  0  0  0  0  0  0\\n    4.5399   -0.1379   -0.4274 H   0  0  0  0  0  0  0  0  0  0  0  0\\n    5.7565    0.1716    0.8671 H   0  0  0  0  0  0  0  0  0  0  0  0\\n    5.7609   -3.3891    1.2546 H   0  0  0  0  0  0  0  0  0  0  0  0\\n    2.1334   -0.6209    1.9579 H   0  0  0  0  0  0  0  0  0  0  0  0\\n   -0.4676    1.3668   -0.9282 H   0  0  0  0  0  0  0  0  0  0  0  0\\n    0.2016    0.2306   -2.0910 H   0  0  0  0  0  0  0  0  0  0  0  0\\n   -1.5863   -1.5001   -1.4133 H   0  0  0  0  0  0  0  0  0  0  0  0\\n   -1.3297    0.0737    1.5972 H   0  0  0  0  0  0  0  0  0  0  0  0\\n   -3.2593    0.3693    3.2094 H   0  0  0  0  0  0  0  0  0  0  0  0\\n   -5.4634    0.0615    2.3779 H   0  0  0  0  0  0  0  0  0  0  0  0\\n   -5.9623   -0.1702   -0.1058 H   0  0  0  0  0  0  0  0  0  0  0  0\\n   -5.9188    0.0764   -2.6938 H   0  0  0  0  0  0  0  0  0  0  0  0\\n   -5.3900    0.8536   -4.8847 H   0  0  0  0  0  0  0  0  0  0  0  0\\n   -2.9873    1.3700   -5.4998 H   0  0  0  0  0  0  0  0  0  0  0  0\\n   -1.1551    0.7974   -3.9216 H   0  0  0  0  0  0  0  0  0  0  0  0\\n  1  2  3  0\\n  2  3  1  0\\n  3  4  1  0\\n  4  5  1  0\\n  5  6  1  0\\n  6  7  2  0\\n  6  8  1  0\\n  4  9  1  0\\n  9 10  1  0\\n 10 11  2  0\\n 10 12  1  0\\n 12 13  1  0\\n 13 14  1  0\\n 14 15  1  0\\n 15 16  2  0\\n 16 17  1  0\\n 17 18  2  0\\n 18 19  1  0\\n 19 20  2  0\\n 20 21  1  0\\n 21 22  2  0\\n 22 23  1  0\\n 23 24  2  0\\n 24 25  1  0\\n 25 26  2  0\\n 26 14  1  0\\n 20 15  1  0\\n 26 21  1  0\\n  1 27  1  0\\n  3 28  1  0\\n  3 29  1  0\\n  4 30  1  6\\n  5 31  1  0\\n  5 32  1  0\\n  8 33  1  0\\n  9 34  1  0\\n 13 35  1  0\\n 13 36  1  0\\n 14 37  1  0\\n 16 38  1  0\\n 17 39  1  0\\n 18 40  1  0\\n 19 41  1  0\\n 22 42  1  0\\n 23 43  1  0\\n 24 44  1  0\\n 25 45  1  0\\nM  END\\n\",\"mol\");\n\tviewer_17189102433519595.setStyle({\"stick\": {}});\n\tviewer_17189102433519595.addLabel(\"C0\",{\"position\": {\"x\": 4.832788188079343, \"y\": -1.5130248478774437, \"z\": 4.070142298048731}, \"fontSize\": 12, \"fontColor\": \"black\", \"backgroundColor\": \"white\", \"showBackground\": true});\n\tviewer_17189102433519595.addLabel(\"C1\",{\"position\": {\"x\": 4.548444217501084, \"y\": -0.5389631758074624, \"z\": 3.497851340296323}, \"fontSize\": 12, \"fontColor\": \"black\", \"backgroundColor\": \"white\", \"showBackground\": true});\n\tviewer_17189102433519595.addLabel(\"C2\",{\"position\": {\"x\": 4.224600380188975, \"y\": 0.6191404130013028, \"z\": 2.8183602401591683}, \"fontSize\": 12, \"fontColor\": \"black\", \"backgroundColor\": \"white\", \"showBackground\": true});\n\tviewer_17189102433519595.addLabel(\"C3\",{\"position\": {\"x\": 3.7484822876843893, \"y\": 0.632945741962203, \"z\": 1.421119301038791}, \"fontSize\": 12, \"fontColor\": \"black\", \"backgroundColor\": \"white\", \"showBackground\": true});\n\tviewer_17189102433519595.addLabel(\"C4\",{\"position\": {\"x\": 4.802717312446516, \"y\": -0.23009870977509314, \"z\": 0.5936551040266613}, \"fontSize\": 12, \"fontColor\": \"black\", \"backgroundColor\": \"white\", \"showBackground\": true});\n\tviewer_17189102433519595.addLabel(\"C5\",{\"position\": {\"x\": 4.584923292386324, \"y\": -1.6520863721320118, \"z\": 1.0535681332742584}, \"fontSize\": 12, \"fontColor\": \"black\", \"backgroundColor\": \"white\", \"showBackground\": true});\n\tviewer_17189102433519595.addLabel(\"O6\",{\"position\": {\"x\": 3.5707147969196775, \"y\": -2.194655415867419, \"z\": 1.2657899296809225}, \"fontSize\": 12, \"fontColor\": \"black\", \"backgroundColor\": \"white\", \"showBackground\": true});\n\tviewer_17189102433519595.addLabel(\"O7\",{\"position\": {\"x\": 5.818528849847276, \"y\": -2.3793597973527727, \"z\": 1.2421882192827227}, \"fontSize\": 12, \"fontColor\": \"black\", \"backgroundColor\": \"white\", \"showBackground\": true});\n\tviewer_17189102433519595.addLabel(\"N8\",{\"position\": {\"x\": 2.486855189537544, \"y\": 0.06997009323445237, \"z\": 1.2065881720181983}, \"fontSize\": 12, \"fontColor\": \"black\", \"backgroundColor\": \"white\", \"showBackground\": true});\n\tviewer_17189102433519595.addLabel(\"C9\",{\"position\": {\"x\": 1.649580030817871, \"y\": 0.2933643373613297, \"z\": 0.12480841463977856}, \"fontSize\": 12, \"fontColor\": \"black\", \"backgroundColor\": \"white\", \"showBackground\": true});\n\tviewer_17189102433519595.addLabel(\"O10\",{\"position\": {\"x\": 1.9776919135631243, \"y\": 1.0205365878207038, \"z\": -0.865839047271507}, \"fontSize\": 12, \"fontColor\": \"black\", \"backgroundColor\": \"white\", \"showBackground\": true});\n\tviewer_17189102433519595.addLabel(\"O11\",{\"position\": {\"x\": 0.316469195250009, \"y\": -0.2575942694385426, \"z\": -0.01115909839784416}, \"fontSize\": 12, \"fontColor\": \"black\", \"backgroundColor\": \"white\", \"showBackground\": true});\n\tviewer_17189102433519595.addLabel(\"C12\",{\"position\": {\"x\": -0.3813223661808431, \"y\": 0.2518195694070475, \"z\": -1.1760806333956646}, \"fontSize\": 12, \"fontColor\": \"black\", \"backgroundColor\": \"white\", \"showBackground\": true});\n\tviewer_17189102433519595.addLabel(\"C13\",{\"position\": {\"x\": -1.7056689366674826, \"y\": -0.384308569705374, \"z\": -1.289134498102242}, \"fontSize\": 12, \"fontColor\": \"black\", \"backgroundColor\": \"white\", \"showBackground\": true});\n\tviewer_17189102433519595.addLabel(\"C14\",{\"position\": {\"x\": -2.6064677813142354, \"y\": -0.1383496278733327, \"z\": -0.12760406944932534}, \"fontSize\": 12, \"fontColor\": \"black\", \"backgroundColor\": \"white\", \"showBackground\": true});\n\tviewer_17189102433519595.addLabel(\"C15\",{\"position\": {\"x\": -2.328923981966316, \"y\": 0.029239293270545842, \"z\": 1.2527094607084879}, \"fontSize\": 12, \"fontColor\": \"black\", \"backgroundColor\": \"white\", \"showBackground\": true});\n\tviewer_17189102433519595.addLabel(\"C16\",{\"position\": {\"x\": -3.387477465867828, \"y\": 0.13320504502774547, \"z\": 2.162649368198478}, \"fontSize\": 12, \"fontColor\": \"black\", \"backgroundColor\": \"white\", \"showBackground\": true});\n\tviewer_17189102433519595.addLabel(\"C17\",{\"position\": {\"x\": -4.624212167761963, \"y\": 0.04714965841355931, \"z\": 1.6373111885283493}, \"fontSize\": 12, \"fontColor\": \"black\", \"backgroundColor\": \"white\", \"showBackground\": true});\n\tviewer_17189102433519595.addLabel(\"C18\",{\"position\": {\"x\": -4.976452406296644, \"y\": -0.10728534344860997, \"z\": 0.2686034335426948}, \"fontSize\": 12, \"fontColor\": \"black\", \"backgroundColor\": \"white\", \"showBackground\": true});\n\tviewer_17189102433519595.addLabel(\"C19\",{\"position\": {\"x\": -3.8735100661219337, \"y\": -0.19153339356733004, \"z\": -0.5809669934235964}, \"fontSize\": 12, \"fontColor\": \"black\", \"backgroundColor\": \"white\", \"showBackground\": true});\n\tviewer_17189102433519595.addLabel(\"C20\",{\"position\": {\"x\": -3.8293081130695774, \"y\": -0.001528263519449926, \"z\": -2.141298956026586}, \"fontSize\": 12, \"fontColor\": \"black\", \"backgroundColor\": \"white\", \"showBackground\": true});\n\tviewer_17189102433519595.addLabel(\"C21\",{\"position\": {\"x\": -4.93467000480207, \"y\": 0.18952791969216687, \"z\": -2.8773916616368176}, \"fontSize\": 12, \"fontColor\": \"black\", \"backgroundColor\": \"white\", \"showBackground\": true});\n\tviewer_17189102433519595.addLabel(\"C22\",{\"position\": {\"x\": -4.536971573580897, \"y\": 0.7074084028750053, \"z\": -4.306374253201181}, \"fontSize\": 12, \"fontColor\": \"black\", \"backgroundColor\": \"white\", \"showBackground\": true});\n\tviewer_17189102433519595.addLabel(\"C23\",{\"position\": {\"x\": -3.24338551878184, \"y\": 0.8599683075105865, \"z\": -4.475312722957303}, \"fontSize\": 12, \"fontColor\": \"black\", \"backgroundColor\": \"white\", \"showBackground\": true});\n\tviewer_17189102433519595.addLabel(\"C24\",{\"position\": {\"x\": -2.169540497564428, \"y\": 0.6498651736077065, \"z\": -3.695824845641931}, \"fontSize\": 12, \"fontColor\": \"black\", \"backgroundColor\": \"white\", \"showBackground\": true});\n\tviewer_17189102433519595.addLabel(\"C25\",{\"position\": {\"x\": -2.548093505624107, \"y\": 0.14692952121619596, \"z\": -2.3605580278851477}, \"fontSize\": 12, \"fontColor\": \"black\", \"backgroundColor\": \"white\", \"showBackground\": true});\n\tviewer_17189102433519595.addLabel(\"H26\",{\"position\": {\"x\": 5.127559042163443, \"y\": -2.526764500716728, \"z\": 4.678188454801523}, \"fontSize\": 12, \"fontColor\": \"black\", \"backgroundColor\": \"white\", \"showBackground\": true});\n\tviewer_17189102433519595.addLabel(\"H27\",{\"position\": {\"x\": 5.202279291916013, \"y\": 1.27370764890207, \"z\": 2.861448437013341}, \"fontSize\": 12, \"fontColor\": \"black\", \"backgroundColor\": \"white\", \"showBackground\": true});\n\tviewer_17189102433519595.addLabel(\"H28\",{\"position\": {\"x\": 3.517898360629463, \"y\": 1.285953702819096, \"z\": 3.4306269903177937}, \"fontSize\": 12, \"fontColor\": \"black\", \"backgroundColor\": \"white\", \"showBackground\": true});\n\tviewer_17189102433519595.addLabel(\"H29\",{\"position\": {\"x\": 3.8638914060135705, \"y\": 1.6309229419873614, \"z\": 1.0234616523432296}, \"fontSize\": 12, \"fontColor\": \"black\", \"backgroundColor\": \"white\", \"showBackground\": true});\n\tviewer_17189102433519595.addLabel(\"H30\",{\"position\": {\"x\": 4.539862923067765, \"y\": -0.1379388149708396, \"z\": -0.42740091648443373}, \"fontSize\": 12, \"fontColor\": \"black\", \"backgroundColor\": \"white\", \"showBackground\": true});\n\tviewer_17189102433519595.addLabel(\"H31\",{\"position\": {\"x\": 5.756517722588664, \"y\": 0.17157582129868887, \"z\": 0.8671358435663128}, \"fontSize\": 12, \"fontColor\": \"black\", \"backgroundColor\": \"white\", \"showBackground\": true});\n\tviewer_17189102433519595.addLabel(\"H32\",{\"position\": {\"x\": 5.760905400289766, \"y\": -3.3890978062409225, \"z\": 1.254586019467579}, \"fontSize\": 12, \"fontColor\": \"black\", \"backgroundColor\": \"white\", \"showBackground\": true});\n\tviewer_17189102433519595.addLabel(\"H33\",{\"position\": {\"x\": 2.1334290842036374, \"y\": -0.6209237295568809, \"z\": 1.9579000899627481}, \"fontSize\": 12, \"fontColor\": \"black\", \"backgroundColor\": \"white\", \"showBackground\": true});\n\tviewer_17189102433519595.addLabel(\"H34\",{\"position\": {\"x\": -0.4676397344837082, \"y\": 1.3667753472972675, \"z\": -0.9281749409485169}, \"fontSize\": 12, \"fontColor\": \"black\", \"backgroundColor\": \"white\", \"showBackground\": true});\n\tviewer_17189102433519595.addLabel(\"H35\",{\"position\": {\"x\": 0.20157042885785095, \"y\": 0.23061668730413626, \"z\": -2.0910332418945083}, \"fontSize\": 12, \"fontColor\": \"black\", \"backgroundColor\": \"white\", \"showBackground\": true});\n\tviewer_17189102433519595.addLabel(\"H36\",{\"position\": {\"x\": -1.5862582709278104, \"y\": -1.5001306478076188, \"z\": -1.4132533216566041}, \"fontSize\": 12, \"fontColor\": \"black\", \"backgroundColor\": \"white\", \"showBackground\": true});\n\tviewer_17189102433519595.addLabel(\"H37\",{\"position\": {\"x\": -1.3296839636980686, \"y\": 0.07373027909005138, \"z\": 1.5971517559875212}, \"fontSize\": 12, \"fontColor\": \"black\", \"backgroundColor\": \"white\", \"showBackground\": true});\n\tviewer_17189102433519595.addLabel(\"H38\",{\"position\": {\"x\": -3.2592694040270214, \"y\": 0.3693157528313872, \"z\": 3.209427383295196}, \"fontSize\": 12, \"fontColor\": \"black\", \"backgroundColor\": \"white\", \"showBackground\": true});\n\tviewer_17189102433519595.addLabel(\"H39\",{\"position\": {\"x\": -5.463428357279996, \"y\": 0.06152890159407583, \"z\": 2.377869643856696}, \"fontSize\": 12, \"fontColor\": \"black\", \"backgroundColor\": \"white\", \"showBackground\": true});\n\tviewer_17189102433519595.addLabel(\"H40\",{\"position\": {\"x\": -5.9623214307315, \"y\": -0.17022253299092888, \"z\": -0.1058416033920189}, \"fontSize\": 12, \"fontColor\": \"black\", \"backgroundColor\": \"white\", \"showBackground\": true});\n\tviewer_17189102433519595.addLabel(\"H41\",{\"position\": {\"x\": -5.918752941626447, \"y\": 0.07642322663568249, \"z\": -2.6938013051401413}, \"fontSize\": 12, \"fontColor\": \"black\", \"backgroundColor\": \"white\", \"showBackground\": true});\n\tviewer_17189102433519595.addLabel(\"H42\",{\"position\": {\"x\": -5.389994323384889, \"y\": 0.8536107527237875, \"z\": -4.884664365277792}, \"fontSize\": 12, \"fontColor\": \"black\", \"backgroundColor\": \"white\", \"showBackground\": true});\n\tviewer_17189102433519595.addLabel(\"H43\",{\"position\": {\"x\": -2.9872927527386297, \"y\": 1.3699915739065625, \"z\": -5.499834541801451}, \"fontSize\": 12, \"fontColor\": \"black\", \"backgroundColor\": \"white\", \"showBackground\": true});\n\tviewer_17189102433519595.addLabel(\"H44\",{\"position\": {\"x\": -1.1550637494846425, \"y\": 0.7974470478069308, \"z\": -3.9215918300798305}, \"fontSize\": 12, \"fontColor\": \"black\", \"backgroundColor\": \"white\", \"showBackground\": true});\n\tviewer_17189102433519595.zoomTo();\nviewer_17189102433519595.render();\n});\n</script>",
            "text/html": [
              "<div id=\"3dmolviewer_17189102433519595\"  style=\"position: relative; width: 600px; height: 600px;\">\n",
              "        <p id=\"3dmolwarning_17189102433519595\" style=\"background-color:#ffcccc;color:black\">3Dmol.js failed to load for some reason.  Please check your browser console for error messages.<br></p>\n",
              "        </div>\n",
              "<script>\n",
              "\n",
              "var loadScriptAsync = function(uri){\n",
              "  return new Promise((resolve, reject) => {\n",
              "    //this is to ignore the existence of requirejs amd\n",
              "    var savedexports, savedmodule;\n",
              "    if (typeof exports !== 'undefined') savedexports = exports;\n",
              "    else exports = {}\n",
              "    if (typeof module !== 'undefined') savedmodule = module;\n",
              "    else module = {}\n",
              "\n",
              "    var tag = document.createElement('script');\n",
              "    tag.src = uri;\n",
              "    tag.async = true;\n",
              "    tag.onload = () => {\n",
              "        exports = savedexports;\n",
              "        module = savedmodule;\n",
              "        resolve();\n",
              "    };\n",
              "  var firstScriptTag = document.getElementsByTagName('script')[0];\n",
              "  firstScriptTag.parentNode.insertBefore(tag, firstScriptTag);\n",
              "});\n",
              "};\n",
              "\n",
              "if(typeof $3Dmolpromise === 'undefined') {\n",
              "$3Dmolpromise = null;\n",
              "  $3Dmolpromise = loadScriptAsync('https://cdnjs.cloudflare.com/ajax/libs/3Dmol/2.1.0/3Dmol-min.js');\n",
              "}\n",
              "\n",
              "var viewer_17189102433519595 = null;\n",
              "var warn = document.getElementById(\"3dmolwarning_17189102433519595\");\n",
              "if(warn) {\n",
              "    warn.parentNode.removeChild(warn);\n",
              "}\n",
              "$3Dmolpromise.then(function() {\n",
              "viewer_17189102433519595 = $3Dmol.createViewer(document.getElementById(\"3dmolviewer_17189102433519595\"),{backgroundColor:\"white\"});\n",
              "viewer_17189102433519595.zoomTo();\n",
              "\tviewer_17189102433519595.addModel(\"\\n     RDKit          3D\\n\\n 45 47  0  0  0  0  0  0  0  0999 V2000\\n    4.8328   -1.5130    4.0701 C   0  0  0  0  0  0  0  0  0  0  0  0\\n    4.5484   -0.5390    3.4979 C   0  0  0  0  0  0  0  0  0  0  0  0\\n    4.2246    0.6191    2.8184 C   0  0  0  0  0  0  0  0  0  0  0  0\\n    3.7485    0.6329    1.4211 C   0  0  1  0  0  0  0  0  0  0  0  0\\n    4.8027   -0.2301    0.5937 C   0  0  0  0  0  0  0  0  0  0  0  0\\n    4.5849   -1.6521    1.0536 C   0  0  0  0  0  0  0  0  0  0  0  0\\n    3.5707   -2.1947    1.2658 O   0  0  0  0  0  0  0  0  0  0  0  0\\n    5.8185   -2.3794    1.2422 O   0  0  0  0  0  0  0  0  0  0  0  0\\n    2.4869    0.0700    1.2066 N   0  0  0  0  0  0  0  0  0  0  0  0\\n    1.6496    0.2934    0.1248 C   0  0  0  0  0  0  0  0  0  0  0  0\\n    1.9777    1.0205   -0.8658 O   0  0  0  0  0  0  0  0  0  0  0  0\\n    0.3165   -0.2576   -0.0112 O   0  0  0  0  0  0  0  0  0  0  0  0\\n   -0.3813    0.2518   -1.1761 C   0  0  0  0  0  0  0  0  0  0  0  0\\n   -1.7057   -0.3843   -1.2891 C   0  0  0  0  0  0  0  0  0  0  0  0\\n   -2.6065   -0.1383   -0.1276 C   0  0  0  0  0  0  0  0  0  0  0  0\\n   -2.3289    0.0292    1.2527 C   0  0  0  0  0  0  0  0  0  0  0  0\\n   -3.3875    0.1332    2.1626 C   0  0  0  0  0  0  0  0  0  0  0  0\\n   -4.6242    0.0471    1.6373 C   0  0  0  0  0  0  0  0  0  0  0  0\\n   -4.9765   -0.1073    0.2686 C   0  0  0  0  0  0  0  0  0  0  0  0\\n   -3.8735   -0.1915   -0.5810 C   0  0  0  0  0  0  0  0  0  0  0  0\\n   -3.8293   -0.0015   -2.1413 C   0  0  0  0  0  0  0  0  0  0  0  0\\n   -4.9347    0.1895   -2.8774 C   0  0  0  0  0  0  0  0  0  0  0  0\\n   -4.5370    0.7074   -4.3064 C   0  0  0  0  0  0  0  0  0  0  0  0\\n   -3.2434    0.8600   -4.4753 C   0  0  0  0  0  0  0  0  0  0  0  0\\n   -2.1695    0.6499   -3.6958 C   0  0  0  0  0  0  0  0  0  0  0  0\\n   -2.5481    0.1469   -2.3606 C   0  0  0  0  0  0  0  0  0  0  0  0\\n    5.1276   -2.5268    4.6782 H   0  0  0  0  0  0  0  0  0  0  0  0\\n    5.2023    1.2737    2.8614 H   0  0  0  0  0  0  0  0  0  0  0  0\\n    3.5179    1.2860    3.4306 H   0  0  0  0  0  0  0  0  0  0  0  0\\n    3.8639    1.6309    1.0235 H   0  0  0  0  0  0  0  0  0  0  0  0\\n    4.5399   -0.1379   -0.4274 H   0  0  0  0  0  0  0  0  0  0  0  0\\n    5.7565    0.1716    0.8671 H   0  0  0  0  0  0  0  0  0  0  0  0\\n    5.7609   -3.3891    1.2546 H   0  0  0  0  0  0  0  0  0  0  0  0\\n    2.1334   -0.6209    1.9579 H   0  0  0  0  0  0  0  0  0  0  0  0\\n   -0.4676    1.3668   -0.9282 H   0  0  0  0  0  0  0  0  0  0  0  0\\n    0.2016    0.2306   -2.0910 H   0  0  0  0  0  0  0  0  0  0  0  0\\n   -1.5863   -1.5001   -1.4133 H   0  0  0  0  0  0  0  0  0  0  0  0\\n   -1.3297    0.0737    1.5972 H   0  0  0  0  0  0  0  0  0  0  0  0\\n   -3.2593    0.3693    3.2094 H   0  0  0  0  0  0  0  0  0  0  0  0\\n   -5.4634    0.0615    2.3779 H   0  0  0  0  0  0  0  0  0  0  0  0\\n   -5.9623   -0.1702   -0.1058 H   0  0  0  0  0  0  0  0  0  0  0  0\\n   -5.9188    0.0764   -2.6938 H   0  0  0  0  0  0  0  0  0  0  0  0\\n   -5.3900    0.8536   -4.8847 H   0  0  0  0  0  0  0  0  0  0  0  0\\n   -2.9873    1.3700   -5.4998 H   0  0  0  0  0  0  0  0  0  0  0  0\\n   -1.1551    0.7974   -3.9216 H   0  0  0  0  0  0  0  0  0  0  0  0\\n  1  2  3  0\\n  2  3  1  0\\n  3  4  1  0\\n  4  5  1  0\\n  5  6  1  0\\n  6  7  2  0\\n  6  8  1  0\\n  4  9  1  0\\n  9 10  1  0\\n 10 11  2  0\\n 10 12  1  0\\n 12 13  1  0\\n 13 14  1  0\\n 14 15  1  0\\n 15 16  2  0\\n 16 17  1  0\\n 17 18  2  0\\n 18 19  1  0\\n 19 20  2  0\\n 20 21  1  0\\n 21 22  2  0\\n 22 23  1  0\\n 23 24  2  0\\n 24 25  1  0\\n 25 26  2  0\\n 26 14  1  0\\n 20 15  1  0\\n 26 21  1  0\\n  1 27  1  0\\n  3 28  1  0\\n  3 29  1  0\\n  4 30  1  6\\n  5 31  1  0\\n  5 32  1  0\\n  8 33  1  0\\n  9 34  1  0\\n 13 35  1  0\\n 13 36  1  0\\n 14 37  1  0\\n 16 38  1  0\\n 17 39  1  0\\n 18 40  1  0\\n 19 41  1  0\\n 22 42  1  0\\n 23 43  1  0\\n 24 44  1  0\\n 25 45  1  0\\nM  END\\n\",\"mol\");\n",
              "\tviewer_17189102433519595.setStyle({\"stick\": {}});\n",
              "\tviewer_17189102433519595.addLabel(\"C0\",{\"position\": {\"x\": 4.832788188079343, \"y\": -1.5130248478774437, \"z\": 4.070142298048731}, \"fontSize\": 12, \"fontColor\": \"black\", \"backgroundColor\": \"white\", \"showBackground\": true});\n",
              "\tviewer_17189102433519595.addLabel(\"C1\",{\"position\": {\"x\": 4.548444217501084, \"y\": -0.5389631758074624, \"z\": 3.497851340296323}, \"fontSize\": 12, \"fontColor\": \"black\", \"backgroundColor\": \"white\", \"showBackground\": true});\n",
              "\tviewer_17189102433519595.addLabel(\"C2\",{\"position\": {\"x\": 4.224600380188975, \"y\": 0.6191404130013028, \"z\": 2.8183602401591683}, \"fontSize\": 12, \"fontColor\": \"black\", \"backgroundColor\": \"white\", \"showBackground\": true});\n",
              "\tviewer_17189102433519595.addLabel(\"C3\",{\"position\": {\"x\": 3.7484822876843893, \"y\": 0.632945741962203, \"z\": 1.421119301038791}, \"fontSize\": 12, \"fontColor\": \"black\", \"backgroundColor\": \"white\", \"showBackground\": true});\n",
              "\tviewer_17189102433519595.addLabel(\"C4\",{\"position\": {\"x\": 4.802717312446516, \"y\": -0.23009870977509314, \"z\": 0.5936551040266613}, \"fontSize\": 12, \"fontColor\": \"black\", \"backgroundColor\": \"white\", \"showBackground\": true});\n",
              "\tviewer_17189102433519595.addLabel(\"C5\",{\"position\": {\"x\": 4.584923292386324, \"y\": -1.6520863721320118, \"z\": 1.0535681332742584}, \"fontSize\": 12, \"fontColor\": \"black\", \"backgroundColor\": \"white\", \"showBackground\": true});\n",
              "\tviewer_17189102433519595.addLabel(\"O6\",{\"position\": {\"x\": 3.5707147969196775, \"y\": -2.194655415867419, \"z\": 1.2657899296809225}, \"fontSize\": 12, \"fontColor\": \"black\", \"backgroundColor\": \"white\", \"showBackground\": true});\n",
              "\tviewer_17189102433519595.addLabel(\"O7\",{\"position\": {\"x\": 5.818528849847276, \"y\": -2.3793597973527727, \"z\": 1.2421882192827227}, \"fontSize\": 12, \"fontColor\": \"black\", \"backgroundColor\": \"white\", \"showBackground\": true});\n",
              "\tviewer_17189102433519595.addLabel(\"N8\",{\"position\": {\"x\": 2.486855189537544, \"y\": 0.06997009323445237, \"z\": 1.2065881720181983}, \"fontSize\": 12, \"fontColor\": \"black\", \"backgroundColor\": \"white\", \"showBackground\": true});\n",
              "\tviewer_17189102433519595.addLabel(\"C9\",{\"position\": {\"x\": 1.649580030817871, \"y\": 0.2933643373613297, \"z\": 0.12480841463977856}, \"fontSize\": 12, \"fontColor\": \"black\", \"backgroundColor\": \"white\", \"showBackground\": true});\n",
              "\tviewer_17189102433519595.addLabel(\"O10\",{\"position\": {\"x\": 1.9776919135631243, \"y\": 1.0205365878207038, \"z\": -0.865839047271507}, \"fontSize\": 12, \"fontColor\": \"black\", \"backgroundColor\": \"white\", \"showBackground\": true});\n",
              "\tviewer_17189102433519595.addLabel(\"O11\",{\"position\": {\"x\": 0.316469195250009, \"y\": -0.2575942694385426, \"z\": -0.01115909839784416}, \"fontSize\": 12, \"fontColor\": \"black\", \"backgroundColor\": \"white\", \"showBackground\": true});\n",
              "\tviewer_17189102433519595.addLabel(\"C12\",{\"position\": {\"x\": -0.3813223661808431, \"y\": 0.2518195694070475, \"z\": -1.1760806333956646}, \"fontSize\": 12, \"fontColor\": \"black\", \"backgroundColor\": \"white\", \"showBackground\": true});\n",
              "\tviewer_17189102433519595.addLabel(\"C13\",{\"position\": {\"x\": -1.7056689366674826, \"y\": -0.384308569705374, \"z\": -1.289134498102242}, \"fontSize\": 12, \"fontColor\": \"black\", \"backgroundColor\": \"white\", \"showBackground\": true});\n",
              "\tviewer_17189102433519595.addLabel(\"C14\",{\"position\": {\"x\": -2.6064677813142354, \"y\": -0.1383496278733327, \"z\": -0.12760406944932534}, \"fontSize\": 12, \"fontColor\": \"black\", \"backgroundColor\": \"white\", \"showBackground\": true});\n",
              "\tviewer_17189102433519595.addLabel(\"C15\",{\"position\": {\"x\": -2.328923981966316, \"y\": 0.029239293270545842, \"z\": 1.2527094607084879}, \"fontSize\": 12, \"fontColor\": \"black\", \"backgroundColor\": \"white\", \"showBackground\": true});\n",
              "\tviewer_17189102433519595.addLabel(\"C16\",{\"position\": {\"x\": -3.387477465867828, \"y\": 0.13320504502774547, \"z\": 2.162649368198478}, \"fontSize\": 12, \"fontColor\": \"black\", \"backgroundColor\": \"white\", \"showBackground\": true});\n",
              "\tviewer_17189102433519595.addLabel(\"C17\",{\"position\": {\"x\": -4.624212167761963, \"y\": 0.04714965841355931, \"z\": 1.6373111885283493}, \"fontSize\": 12, \"fontColor\": \"black\", \"backgroundColor\": \"white\", \"showBackground\": true});\n",
              "\tviewer_17189102433519595.addLabel(\"C18\",{\"position\": {\"x\": -4.976452406296644, \"y\": -0.10728534344860997, \"z\": 0.2686034335426948}, \"fontSize\": 12, \"fontColor\": \"black\", \"backgroundColor\": \"white\", \"showBackground\": true});\n",
              "\tviewer_17189102433519595.addLabel(\"C19\",{\"position\": {\"x\": -3.8735100661219337, \"y\": -0.19153339356733004, \"z\": -0.5809669934235964}, \"fontSize\": 12, \"fontColor\": \"black\", \"backgroundColor\": \"white\", \"showBackground\": true});\n",
              "\tviewer_17189102433519595.addLabel(\"C20\",{\"position\": {\"x\": -3.8293081130695774, \"y\": -0.001528263519449926, \"z\": -2.141298956026586}, \"fontSize\": 12, \"fontColor\": \"black\", \"backgroundColor\": \"white\", \"showBackground\": true});\n",
              "\tviewer_17189102433519595.addLabel(\"C21\",{\"position\": {\"x\": -4.93467000480207, \"y\": 0.18952791969216687, \"z\": -2.8773916616368176}, \"fontSize\": 12, \"fontColor\": \"black\", \"backgroundColor\": \"white\", \"showBackground\": true});\n",
              "\tviewer_17189102433519595.addLabel(\"C22\",{\"position\": {\"x\": -4.536971573580897, \"y\": 0.7074084028750053, \"z\": -4.306374253201181}, \"fontSize\": 12, \"fontColor\": \"black\", \"backgroundColor\": \"white\", \"showBackground\": true});\n",
              "\tviewer_17189102433519595.addLabel(\"C23\",{\"position\": {\"x\": -3.24338551878184, \"y\": 0.8599683075105865, \"z\": -4.475312722957303}, \"fontSize\": 12, \"fontColor\": \"black\", \"backgroundColor\": \"white\", \"showBackground\": true});\n",
              "\tviewer_17189102433519595.addLabel(\"C24\",{\"position\": {\"x\": -2.169540497564428, \"y\": 0.6498651736077065, \"z\": -3.695824845641931}, \"fontSize\": 12, \"fontColor\": \"black\", \"backgroundColor\": \"white\", \"showBackground\": true});\n",
              "\tviewer_17189102433519595.addLabel(\"C25\",{\"position\": {\"x\": -2.548093505624107, \"y\": 0.14692952121619596, \"z\": -2.3605580278851477}, \"fontSize\": 12, \"fontColor\": \"black\", \"backgroundColor\": \"white\", \"showBackground\": true});\n",
              "\tviewer_17189102433519595.addLabel(\"H26\",{\"position\": {\"x\": 5.127559042163443, \"y\": -2.526764500716728, \"z\": 4.678188454801523}, \"fontSize\": 12, \"fontColor\": \"black\", \"backgroundColor\": \"white\", \"showBackground\": true});\n",
              "\tviewer_17189102433519595.addLabel(\"H27\",{\"position\": {\"x\": 5.202279291916013, \"y\": 1.27370764890207, \"z\": 2.861448437013341}, \"fontSize\": 12, \"fontColor\": \"black\", \"backgroundColor\": \"white\", \"showBackground\": true});\n",
              "\tviewer_17189102433519595.addLabel(\"H28\",{\"position\": {\"x\": 3.517898360629463, \"y\": 1.285953702819096, \"z\": 3.4306269903177937}, \"fontSize\": 12, \"fontColor\": \"black\", \"backgroundColor\": \"white\", \"showBackground\": true});\n",
              "\tviewer_17189102433519595.addLabel(\"H29\",{\"position\": {\"x\": 3.8638914060135705, \"y\": 1.6309229419873614, \"z\": 1.0234616523432296}, \"fontSize\": 12, \"fontColor\": \"black\", \"backgroundColor\": \"white\", \"showBackground\": true});\n",
              "\tviewer_17189102433519595.addLabel(\"H30\",{\"position\": {\"x\": 4.539862923067765, \"y\": -0.1379388149708396, \"z\": -0.42740091648443373}, \"fontSize\": 12, \"fontColor\": \"black\", \"backgroundColor\": \"white\", \"showBackground\": true});\n",
              "\tviewer_17189102433519595.addLabel(\"H31\",{\"position\": {\"x\": 5.756517722588664, \"y\": 0.17157582129868887, \"z\": 0.8671358435663128}, \"fontSize\": 12, \"fontColor\": \"black\", \"backgroundColor\": \"white\", \"showBackground\": true});\n",
              "\tviewer_17189102433519595.addLabel(\"H32\",{\"position\": {\"x\": 5.760905400289766, \"y\": -3.3890978062409225, \"z\": 1.254586019467579}, \"fontSize\": 12, \"fontColor\": \"black\", \"backgroundColor\": \"white\", \"showBackground\": true});\n",
              "\tviewer_17189102433519595.addLabel(\"H33\",{\"position\": {\"x\": 2.1334290842036374, \"y\": -0.6209237295568809, \"z\": 1.9579000899627481}, \"fontSize\": 12, \"fontColor\": \"black\", \"backgroundColor\": \"white\", \"showBackground\": true});\n",
              "\tviewer_17189102433519595.addLabel(\"H34\",{\"position\": {\"x\": -0.4676397344837082, \"y\": 1.3667753472972675, \"z\": -0.9281749409485169}, \"fontSize\": 12, \"fontColor\": \"black\", \"backgroundColor\": \"white\", \"showBackground\": true});\n",
              "\tviewer_17189102433519595.addLabel(\"H35\",{\"position\": {\"x\": 0.20157042885785095, \"y\": 0.23061668730413626, \"z\": -2.0910332418945083}, \"fontSize\": 12, \"fontColor\": \"black\", \"backgroundColor\": \"white\", \"showBackground\": true});\n",
              "\tviewer_17189102433519595.addLabel(\"H36\",{\"position\": {\"x\": -1.5862582709278104, \"y\": -1.5001306478076188, \"z\": -1.4132533216566041}, \"fontSize\": 12, \"fontColor\": \"black\", \"backgroundColor\": \"white\", \"showBackground\": true});\n",
              "\tviewer_17189102433519595.addLabel(\"H37\",{\"position\": {\"x\": -1.3296839636980686, \"y\": 0.07373027909005138, \"z\": 1.5971517559875212}, \"fontSize\": 12, \"fontColor\": \"black\", \"backgroundColor\": \"white\", \"showBackground\": true});\n",
              "\tviewer_17189102433519595.addLabel(\"H38\",{\"position\": {\"x\": -3.2592694040270214, \"y\": 0.3693157528313872, \"z\": 3.209427383295196}, \"fontSize\": 12, \"fontColor\": \"black\", \"backgroundColor\": \"white\", \"showBackground\": true});\n",
              "\tviewer_17189102433519595.addLabel(\"H39\",{\"position\": {\"x\": -5.463428357279996, \"y\": 0.06152890159407583, \"z\": 2.377869643856696}, \"fontSize\": 12, \"fontColor\": \"black\", \"backgroundColor\": \"white\", \"showBackground\": true});\n",
              "\tviewer_17189102433519595.addLabel(\"H40\",{\"position\": {\"x\": -5.9623214307315, \"y\": -0.17022253299092888, \"z\": -0.1058416033920189}, \"fontSize\": 12, \"fontColor\": \"black\", \"backgroundColor\": \"white\", \"showBackground\": true});\n",
              "\tviewer_17189102433519595.addLabel(\"H41\",{\"position\": {\"x\": -5.918752941626447, \"y\": 0.07642322663568249, \"z\": -2.6938013051401413}, \"fontSize\": 12, \"fontColor\": \"black\", \"backgroundColor\": \"white\", \"showBackground\": true});\n",
              "\tviewer_17189102433519595.addLabel(\"H42\",{\"position\": {\"x\": -5.389994323384889, \"y\": 0.8536107527237875, \"z\": -4.884664365277792}, \"fontSize\": 12, \"fontColor\": \"black\", \"backgroundColor\": \"white\", \"showBackground\": true});\n",
              "\tviewer_17189102433519595.addLabel(\"H43\",{\"position\": {\"x\": -2.9872927527386297, \"y\": 1.3699915739065625, \"z\": -5.499834541801451}, \"fontSize\": 12, \"fontColor\": \"black\", \"backgroundColor\": \"white\", \"showBackground\": true});\n",
              "\tviewer_17189102433519595.addLabel(\"H44\",{\"position\": {\"x\": -1.1550637494846425, \"y\": 0.7974470478069308, \"z\": -3.9215918300798305}, \"fontSize\": 12, \"fontColor\": \"black\", \"backgroundColor\": \"white\", \"showBackground\": true});\n",
              "\tviewer_17189102433519595.zoomTo();\n",
              "viewer_17189102433519595.render();\n",
              "});\n",
              "</script>"
            ]
          },
          "metadata": {}
        }
      ]
    },
    {
      "cell_type": "code",
      "source": [
        "# Example SMILES string for ethanol\n",
        "smiles = \"Nc1ccc(-c2ccccc2)cn1\"\n",
        "visualize_smiles(smiles)"
      ],
      "metadata": {
        "colab": {
          "base_uri": "https://localhost:8080/",
          "height": 617
        },
        "id": "7lpLjJQKBFYT",
        "outputId": "c681f2a7-efef-4e40-fe18-10af8d545528"
      },
      "execution_count": 14,
      "outputs": [
        {
          "output_type": "display_data",
          "data": {
            "application/3dmoljs_load.v0": "<div id=\"3dmolviewer_17189102565026479\"  style=\"position: relative; width: 600px; height: 600px;\">\n        <p id=\"3dmolwarning_17189102565026479\" style=\"background-color:#ffcccc;color:black\">3Dmol.js failed to load for some reason.  Please check your browser console for error messages.<br></p>\n        </div>\n<script>\n\nvar loadScriptAsync = function(uri){\n  return new Promise((resolve, reject) => {\n    //this is to ignore the existence of requirejs amd\n    var savedexports, savedmodule;\n    if (typeof exports !== 'undefined') savedexports = exports;\n    else exports = {}\n    if (typeof module !== 'undefined') savedmodule = module;\n    else module = {}\n\n    var tag = document.createElement('script');\n    tag.src = uri;\n    tag.async = true;\n    tag.onload = () => {\n        exports = savedexports;\n        module = savedmodule;\n        resolve();\n    };\n  var firstScriptTag = document.getElementsByTagName('script')[0];\n  firstScriptTag.parentNode.insertBefore(tag, firstScriptTag);\n});\n};\n\nif(typeof $3Dmolpromise === 'undefined') {\n$3Dmolpromise = null;\n  $3Dmolpromise = loadScriptAsync('https://cdnjs.cloudflare.com/ajax/libs/3Dmol/2.1.0/3Dmol-min.js');\n}\n\nvar viewer_17189102565026479 = null;\nvar warn = document.getElementById(\"3dmolwarning_17189102565026479\");\nif(warn) {\n    warn.parentNode.removeChild(warn);\n}\n$3Dmolpromise.then(function() {\nviewer_17189102565026479 = $3Dmol.createViewer(document.getElementById(\"3dmolviewer_17189102565026479\"),{backgroundColor:\"white\"});\nviewer_17189102565026479.zoomTo();\n\tviewer_17189102565026479.addModel(\"\\n     RDKit          3D\\n\\n 23 24  0  0  0  0  0  0  0  0999 V2000\\n   -4.5089   -0.5017   -0.5539 N   0  0  0  0  0  0  0  0  0  0  0  0\\n   -3.1081   -0.3377   -0.3655 C   0  0  0  0  0  0  0  0  0  0  0  0\\n   -2.5646    0.2435    0.7641 C   0  0  0  0  0  0  0  0  0  0  0  0\\n   -1.2185    0.3990    0.9388 C   0  0  0  0  0  0  0  0  0  0  0  0\\n   -0.3728   -0.0466   -0.0607 C   0  0  0  0  0  0  0  0  0  0  0  0\\n    1.0693    0.0805    0.0441 C   0  0  0  0  0  0  0  0  0  0  0  0\\n    1.6084    1.1559    0.7303 C   0  0  0  0  0  0  0  0  0  0  0  0\\n    2.9798    1.2365    0.8062 C   0  0  0  0  0  0  0  0  0  0  0  0\\n    3.8224    0.3035    0.2351 C   0  0  0  0  0  0  0  0  0  0  0  0\\n    3.2720   -0.7609   -0.4446 C   0  0  0  0  0  0  0  0  0  0  0  0\\n    1.9113   -0.8572   -0.5300 C   0  0  0  0  0  0  0  0  0  0  0  0\\n   -0.9123   -0.6264   -1.1878 C   0  0  0  0  0  0  0  0  0  0  0  0\\n   -2.2646   -0.7604   -1.3185 N   0  0  0  0  0  0  0  0  0  0  0  0\\n   -5.1609   -0.6709    0.2374 H   0  0  0  0  0  0  0  0  0  0  0  0\\n   -4.9323   -0.4552   -1.5215 H   0  0  0  0  0  0  0  0  0  0  0  0\\n   -3.2343    0.5820    1.5277 H   0  0  0  0  0  0  0  0  0  0  0  0\\n   -0.7899    0.8502    1.8144 H   0  0  0  0  0  0  0  0  0  0  0  0\\n    0.9408    1.8823    1.1744 H   0  0  0  0  0  0  0  0  0  0  0  0\\n    3.3953    2.0758    1.3430 H   0  0  0  0  0  0  0  0  0  0  0  0\\n    4.9168    0.3972    0.3153 H   0  0  0  0  0  0  0  0  0  0  0  0\\n    3.9085   -1.5023   -0.8993 H   0  0  0  0  0  0  0  0  0  0  0  0\\n    1.5023   -1.7075   -1.0725 H   0  0  0  0  0  0  0  0  0  0  0  0\\n   -0.2596   -0.9797   -1.9764 H   0  0  0  0  0  0  0  0  0  0  0  0\\n  1  2  1  0\\n  2  3  2  0\\n  3  4  1  0\\n  4  5  2  0\\n  5  6  1  0\\n  6  7  2  0\\n  7  8  1  0\\n  8  9  2  0\\n  9 10  1  0\\n 10 11  2  0\\n  5 12  1  0\\n 12 13  2  0\\n 13  2  1  0\\n 11  6  1  0\\n  1 14  1  0\\n  1 15  1  0\\n  3 16  1  0\\n  4 17  1  0\\n  7 18  1  0\\n  8 19  1  0\\n  9 20  1  0\\n 10 21  1  0\\n 11 22  1  0\\n 12 23  1  0\\nM  END\\n\",\"mol\");\n\tviewer_17189102565026479.setStyle({\"stick\": {}});\n\tviewer_17189102565026479.addLabel(\"N0\",{\"position\": {\"x\": -4.508891432584681, \"y\": -0.5016946606406953, \"z\": -0.5539408079371982}, \"fontSize\": 12, \"fontColor\": \"black\", \"backgroundColor\": \"white\", \"showBackground\": true});\n\tviewer_17189102565026479.addLabel(\"C1\",{\"position\": {\"x\": -3.108144774318738, \"y\": -0.33770908219142, \"z\": -0.3654732920246815}, \"fontSize\": 12, \"fontColor\": \"black\", \"backgroundColor\": \"white\", \"showBackground\": true});\n\tviewer_17189102565026479.addLabel(\"C2\",{\"position\": {\"x\": -2.5646156396571724, \"y\": 0.243513502247246, \"z\": 0.7640910836166465}, \"fontSize\": 12, \"fontColor\": \"black\", \"backgroundColor\": \"white\", \"showBackground\": true});\n\tviewer_17189102565026479.addLabel(\"C3\",{\"position\": {\"x\": -1.218501702239894, \"y\": 0.3990097742226936, \"z\": 0.938757441423727}, \"fontSize\": 12, \"fontColor\": \"black\", \"backgroundColor\": \"white\", \"showBackground\": true});\n\tviewer_17189102565026479.addLabel(\"C4\",{\"position\": {\"x\": -0.37279625236021646, \"y\": -0.04658703555913464, \"z\": -0.06068741955302096}, \"fontSize\": 12, \"fontColor\": \"black\", \"backgroundColor\": \"white\", \"showBackground\": true});\n\tviewer_17189102565026479.addLabel(\"C5\",{\"position\": {\"x\": 1.0693182238167813, \"y\": 0.0804550783552074, \"z\": 0.044133601763567135}, \"fontSize\": 12, \"fontColor\": \"black\", \"backgroundColor\": \"white\", \"showBackground\": true});\n\tviewer_17189102565026479.addLabel(\"C6\",{\"position\": {\"x\": 1.6083522710416405, \"y\": 1.155933884834159, \"z\": 0.7302554092024234}, \"fontSize\": 12, \"fontColor\": \"black\", \"backgroundColor\": \"white\", \"showBackground\": true});\n\tviewer_17189102565026479.addLabel(\"C7\",{\"position\": {\"x\": 2.979780454280575, \"y\": 1.2364538250668669, \"z\": 0.806152916922435}, \"fontSize\": 12, \"fontColor\": \"black\", \"backgroundColor\": \"white\", \"showBackground\": true});\n\tviewer_17189102565026479.addLabel(\"C8\",{\"position\": {\"x\": 3.822434818086324, \"y\": 0.30349808457790434, \"z\": 0.23507067651110183}, \"fontSize\": 12, \"fontColor\": \"black\", \"backgroundColor\": \"white\", \"showBackground\": true});\n\tviewer_17189102565026479.addLabel(\"C9\",{\"position\": {\"x\": 3.272018881762656, \"y\": -0.7609445774009564, \"z\": -0.4445523646328333}, \"fontSize\": 12, \"fontColor\": \"black\", \"backgroundColor\": \"white\", \"showBackground\": true});\n\tviewer_17189102565026479.addLabel(\"C10\",{\"position\": {\"x\": 1.9112601341170818, \"y\": -0.8571800366114516, \"z\": -0.5300304848076468}, \"fontSize\": 12, \"fontColor\": \"black\", \"backgroundColor\": \"white\", \"showBackground\": true});\n\tviewer_17189102565026479.addLabel(\"C11\",{\"position\": {\"x\": -0.9123470879962393, \"y\": -0.626366899777172, \"z\": -1.1878112545643507}, \"fontSize\": 12, \"fontColor\": \"black\", \"backgroundColor\": \"white\", \"showBackground\": true});\n\tviewer_17189102565026479.addLabel(\"N12\",{\"position\": {\"x\": -2.2645722917786855, \"y\": -0.7604485636023894, \"z\": -1.318505732236655}, \"fontSize\": 12, \"fontColor\": \"black\", \"backgroundColor\": \"white\", \"showBackground\": true});\n\tviewer_17189102565026479.addLabel(\"H13\",{\"position\": {\"x\": -5.16085947955174, \"y\": -0.6708565489505847, \"z\": 0.23741236590582845}, \"fontSize\": 12, \"fontColor\": \"black\", \"backgroundColor\": \"white\", \"showBackground\": true});\n\tviewer_17189102565026479.addLabel(\"H14\",{\"position\": {\"x\": -4.9322802445045975, \"y\": -0.4552068217493344, \"z\": -1.521489754285308}, \"fontSize\": 12, \"fontColor\": \"black\", \"backgroundColor\": \"white\", \"showBackground\": true});\n\tviewer_17189102565026479.addLabel(\"H15\",{\"position\": {\"x\": -3.2343061102236663, \"y\": 0.5819976908777978, \"z\": 1.5277240100461866}, \"fontSize\": 12, \"fontColor\": \"black\", \"backgroundColor\": \"white\", \"showBackground\": true});\n\tviewer_17189102565026479.addLabel(\"H16\",{\"position\": {\"x\": -0.789932392282251, \"y\": 0.8502481033773349, \"z\": 1.8143515858085562}, \"fontSize\": 12, \"fontColor\": \"black\", \"backgroundColor\": \"white\", \"showBackground\": true});\n\tviewer_17189102565026479.addLabel(\"H17\",{\"position\": {\"x\": 0.9407529936776332, \"y\": 1.8823409828331725, \"z\": 1.1744384886771828}, \"fontSize\": 12, \"fontColor\": \"black\", \"backgroundColor\": \"white\", \"showBackground\": true});\n\tviewer_17189102565026479.addLabel(\"H18\",{\"position\": {\"x\": 3.395341171531587, \"y\": 2.075822921225865, \"z\": 1.3429749940868936}, \"fontSize\": 12, \"fontColor\": \"black\", \"backgroundColor\": \"white\", \"showBackground\": true});\n\tviewer_17189102565026479.addLabel(\"H19\",{\"position\": {\"x\": 4.916839445527115, \"y\": 0.39716284871303903, \"z\": 0.31528211890706515}, \"fontSize\": 12, \"fontColor\": \"black\", \"backgroundColor\": \"white\", \"showBackground\": true});\n\tviewer_17189102565026479.addLabel(\"H20\",{\"position\": {\"x\": 3.9084707046812994, \"y\": -1.5022928919431235, \"z\": -0.8992764753636109}, \"fontSize\": 12, \"fontColor\": \"black\", \"backgroundColor\": \"white\", \"showBackground\": true});\n\tviewer_17189102565026479.addLabel(\"H21\",{\"position\": {\"x\": 1.5022848234794808, \"y\": -1.7074945868506435, \"z\": -1.0724647916314658}, \"fontSize\": 12, \"fontColor\": \"black\", \"backgroundColor\": \"white\", \"showBackground\": true});\n\tviewer_17189102565026479.addLabel(\"H22\",{\"position\": {\"x\": -0.25960651450422983, \"y\": -0.9796549910543683, \"z\": -1.9764123158348168}, \"fontSize\": 12, \"fontColor\": \"black\", \"backgroundColor\": \"white\", \"showBackground\": true});\n\tviewer_17189102565026479.zoomTo();\nviewer_17189102565026479.render();\n});\n</script>",
            "text/html": [
              "<div id=\"3dmolviewer_17189102565026479\"  style=\"position: relative; width: 600px; height: 600px;\">\n",
              "        <p id=\"3dmolwarning_17189102565026479\" style=\"background-color:#ffcccc;color:black\">3Dmol.js failed to load for some reason.  Please check your browser console for error messages.<br></p>\n",
              "        </div>\n",
              "<script>\n",
              "\n",
              "var loadScriptAsync = function(uri){\n",
              "  return new Promise((resolve, reject) => {\n",
              "    //this is to ignore the existence of requirejs amd\n",
              "    var savedexports, savedmodule;\n",
              "    if (typeof exports !== 'undefined') savedexports = exports;\n",
              "    else exports = {}\n",
              "    if (typeof module !== 'undefined') savedmodule = module;\n",
              "    else module = {}\n",
              "\n",
              "    var tag = document.createElement('script');\n",
              "    tag.src = uri;\n",
              "    tag.async = true;\n",
              "    tag.onload = () => {\n",
              "        exports = savedexports;\n",
              "        module = savedmodule;\n",
              "        resolve();\n",
              "    };\n",
              "  var firstScriptTag = document.getElementsByTagName('script')[0];\n",
              "  firstScriptTag.parentNode.insertBefore(tag, firstScriptTag);\n",
              "});\n",
              "};\n",
              "\n",
              "if(typeof $3Dmolpromise === 'undefined') {\n",
              "$3Dmolpromise = null;\n",
              "  $3Dmolpromise = loadScriptAsync('https://cdnjs.cloudflare.com/ajax/libs/3Dmol/2.1.0/3Dmol-min.js');\n",
              "}\n",
              "\n",
              "var viewer_17189102565026479 = null;\n",
              "var warn = document.getElementById(\"3dmolwarning_17189102565026479\");\n",
              "if(warn) {\n",
              "    warn.parentNode.removeChild(warn);\n",
              "}\n",
              "$3Dmolpromise.then(function() {\n",
              "viewer_17189102565026479 = $3Dmol.createViewer(document.getElementById(\"3dmolviewer_17189102565026479\"),{backgroundColor:\"white\"});\n",
              "viewer_17189102565026479.zoomTo();\n",
              "\tviewer_17189102565026479.addModel(\"\\n     RDKit          3D\\n\\n 23 24  0  0  0  0  0  0  0  0999 V2000\\n   -4.5089   -0.5017   -0.5539 N   0  0  0  0  0  0  0  0  0  0  0  0\\n   -3.1081   -0.3377   -0.3655 C   0  0  0  0  0  0  0  0  0  0  0  0\\n   -2.5646    0.2435    0.7641 C   0  0  0  0  0  0  0  0  0  0  0  0\\n   -1.2185    0.3990    0.9388 C   0  0  0  0  0  0  0  0  0  0  0  0\\n   -0.3728   -0.0466   -0.0607 C   0  0  0  0  0  0  0  0  0  0  0  0\\n    1.0693    0.0805    0.0441 C   0  0  0  0  0  0  0  0  0  0  0  0\\n    1.6084    1.1559    0.7303 C   0  0  0  0  0  0  0  0  0  0  0  0\\n    2.9798    1.2365    0.8062 C   0  0  0  0  0  0  0  0  0  0  0  0\\n    3.8224    0.3035    0.2351 C   0  0  0  0  0  0  0  0  0  0  0  0\\n    3.2720   -0.7609   -0.4446 C   0  0  0  0  0  0  0  0  0  0  0  0\\n    1.9113   -0.8572   -0.5300 C   0  0  0  0  0  0  0  0  0  0  0  0\\n   -0.9123   -0.6264   -1.1878 C   0  0  0  0  0  0  0  0  0  0  0  0\\n   -2.2646   -0.7604   -1.3185 N   0  0  0  0  0  0  0  0  0  0  0  0\\n   -5.1609   -0.6709    0.2374 H   0  0  0  0  0  0  0  0  0  0  0  0\\n   -4.9323   -0.4552   -1.5215 H   0  0  0  0  0  0  0  0  0  0  0  0\\n   -3.2343    0.5820    1.5277 H   0  0  0  0  0  0  0  0  0  0  0  0\\n   -0.7899    0.8502    1.8144 H   0  0  0  0  0  0  0  0  0  0  0  0\\n    0.9408    1.8823    1.1744 H   0  0  0  0  0  0  0  0  0  0  0  0\\n    3.3953    2.0758    1.3430 H   0  0  0  0  0  0  0  0  0  0  0  0\\n    4.9168    0.3972    0.3153 H   0  0  0  0  0  0  0  0  0  0  0  0\\n    3.9085   -1.5023   -0.8993 H   0  0  0  0  0  0  0  0  0  0  0  0\\n    1.5023   -1.7075   -1.0725 H   0  0  0  0  0  0  0  0  0  0  0  0\\n   -0.2596   -0.9797   -1.9764 H   0  0  0  0  0  0  0  0  0  0  0  0\\n  1  2  1  0\\n  2  3  2  0\\n  3  4  1  0\\n  4  5  2  0\\n  5  6  1  0\\n  6  7  2  0\\n  7  8  1  0\\n  8  9  2  0\\n  9 10  1  0\\n 10 11  2  0\\n  5 12  1  0\\n 12 13  2  0\\n 13  2  1  0\\n 11  6  1  0\\n  1 14  1  0\\n  1 15  1  0\\n  3 16  1  0\\n  4 17  1  0\\n  7 18  1  0\\n  8 19  1  0\\n  9 20  1  0\\n 10 21  1  0\\n 11 22  1  0\\n 12 23  1  0\\nM  END\\n\",\"mol\");\n",
              "\tviewer_17189102565026479.setStyle({\"stick\": {}});\n",
              "\tviewer_17189102565026479.addLabel(\"N0\",{\"position\": {\"x\": -4.508891432584681, \"y\": -0.5016946606406953, \"z\": -0.5539408079371982}, \"fontSize\": 12, \"fontColor\": \"black\", \"backgroundColor\": \"white\", \"showBackground\": true});\n",
              "\tviewer_17189102565026479.addLabel(\"C1\",{\"position\": {\"x\": -3.108144774318738, \"y\": -0.33770908219142, \"z\": -0.3654732920246815}, \"fontSize\": 12, \"fontColor\": \"black\", \"backgroundColor\": \"white\", \"showBackground\": true});\n",
              "\tviewer_17189102565026479.addLabel(\"C2\",{\"position\": {\"x\": -2.5646156396571724, \"y\": 0.243513502247246, \"z\": 0.7640910836166465}, \"fontSize\": 12, \"fontColor\": \"black\", \"backgroundColor\": \"white\", \"showBackground\": true});\n",
              "\tviewer_17189102565026479.addLabel(\"C3\",{\"position\": {\"x\": -1.218501702239894, \"y\": 0.3990097742226936, \"z\": 0.938757441423727}, \"fontSize\": 12, \"fontColor\": \"black\", \"backgroundColor\": \"white\", \"showBackground\": true});\n",
              "\tviewer_17189102565026479.addLabel(\"C4\",{\"position\": {\"x\": -0.37279625236021646, \"y\": -0.04658703555913464, \"z\": -0.06068741955302096}, \"fontSize\": 12, \"fontColor\": \"black\", \"backgroundColor\": \"white\", \"showBackground\": true});\n",
              "\tviewer_17189102565026479.addLabel(\"C5\",{\"position\": {\"x\": 1.0693182238167813, \"y\": 0.0804550783552074, \"z\": 0.044133601763567135}, \"fontSize\": 12, \"fontColor\": \"black\", \"backgroundColor\": \"white\", \"showBackground\": true});\n",
              "\tviewer_17189102565026479.addLabel(\"C6\",{\"position\": {\"x\": 1.6083522710416405, \"y\": 1.155933884834159, \"z\": 0.7302554092024234}, \"fontSize\": 12, \"fontColor\": \"black\", \"backgroundColor\": \"white\", \"showBackground\": true});\n",
              "\tviewer_17189102565026479.addLabel(\"C7\",{\"position\": {\"x\": 2.979780454280575, \"y\": 1.2364538250668669, \"z\": 0.806152916922435}, \"fontSize\": 12, \"fontColor\": \"black\", \"backgroundColor\": \"white\", \"showBackground\": true});\n",
              "\tviewer_17189102565026479.addLabel(\"C8\",{\"position\": {\"x\": 3.822434818086324, \"y\": 0.30349808457790434, \"z\": 0.23507067651110183}, \"fontSize\": 12, \"fontColor\": \"black\", \"backgroundColor\": \"white\", \"showBackground\": true});\n",
              "\tviewer_17189102565026479.addLabel(\"C9\",{\"position\": {\"x\": 3.272018881762656, \"y\": -0.7609445774009564, \"z\": -0.4445523646328333}, \"fontSize\": 12, \"fontColor\": \"black\", \"backgroundColor\": \"white\", \"showBackground\": true});\n",
              "\tviewer_17189102565026479.addLabel(\"C10\",{\"position\": {\"x\": 1.9112601341170818, \"y\": -0.8571800366114516, \"z\": -0.5300304848076468}, \"fontSize\": 12, \"fontColor\": \"black\", \"backgroundColor\": \"white\", \"showBackground\": true});\n",
              "\tviewer_17189102565026479.addLabel(\"C11\",{\"position\": {\"x\": -0.9123470879962393, \"y\": -0.626366899777172, \"z\": -1.1878112545643507}, \"fontSize\": 12, \"fontColor\": \"black\", \"backgroundColor\": \"white\", \"showBackground\": true});\n",
              "\tviewer_17189102565026479.addLabel(\"N12\",{\"position\": {\"x\": -2.2645722917786855, \"y\": -0.7604485636023894, \"z\": -1.318505732236655}, \"fontSize\": 12, \"fontColor\": \"black\", \"backgroundColor\": \"white\", \"showBackground\": true});\n",
              "\tviewer_17189102565026479.addLabel(\"H13\",{\"position\": {\"x\": -5.16085947955174, \"y\": -0.6708565489505847, \"z\": 0.23741236590582845}, \"fontSize\": 12, \"fontColor\": \"black\", \"backgroundColor\": \"white\", \"showBackground\": true});\n",
              "\tviewer_17189102565026479.addLabel(\"H14\",{\"position\": {\"x\": -4.9322802445045975, \"y\": -0.4552068217493344, \"z\": -1.521489754285308}, \"fontSize\": 12, \"fontColor\": \"black\", \"backgroundColor\": \"white\", \"showBackground\": true});\n",
              "\tviewer_17189102565026479.addLabel(\"H15\",{\"position\": {\"x\": -3.2343061102236663, \"y\": 0.5819976908777978, \"z\": 1.5277240100461866}, \"fontSize\": 12, \"fontColor\": \"black\", \"backgroundColor\": \"white\", \"showBackground\": true});\n",
              "\tviewer_17189102565026479.addLabel(\"H16\",{\"position\": {\"x\": -0.789932392282251, \"y\": 0.8502481033773349, \"z\": 1.8143515858085562}, \"fontSize\": 12, \"fontColor\": \"black\", \"backgroundColor\": \"white\", \"showBackground\": true});\n",
              "\tviewer_17189102565026479.addLabel(\"H17\",{\"position\": {\"x\": 0.9407529936776332, \"y\": 1.8823409828331725, \"z\": 1.1744384886771828}, \"fontSize\": 12, \"fontColor\": \"black\", \"backgroundColor\": \"white\", \"showBackground\": true});\n",
              "\tviewer_17189102565026479.addLabel(\"H18\",{\"position\": {\"x\": 3.395341171531587, \"y\": 2.075822921225865, \"z\": 1.3429749940868936}, \"fontSize\": 12, \"fontColor\": \"black\", \"backgroundColor\": \"white\", \"showBackground\": true});\n",
              "\tviewer_17189102565026479.addLabel(\"H19\",{\"position\": {\"x\": 4.916839445527115, \"y\": 0.39716284871303903, \"z\": 0.31528211890706515}, \"fontSize\": 12, \"fontColor\": \"black\", \"backgroundColor\": \"white\", \"showBackground\": true});\n",
              "\tviewer_17189102565026479.addLabel(\"H20\",{\"position\": {\"x\": 3.9084707046812994, \"y\": -1.5022928919431235, \"z\": -0.8992764753636109}, \"fontSize\": 12, \"fontColor\": \"black\", \"backgroundColor\": \"white\", \"showBackground\": true});\n",
              "\tviewer_17189102565026479.addLabel(\"H21\",{\"position\": {\"x\": 1.5022848234794808, \"y\": -1.7074945868506435, \"z\": -1.0724647916314658}, \"fontSize\": 12, \"fontColor\": \"black\", \"backgroundColor\": \"white\", \"showBackground\": true});\n",
              "\tviewer_17189102565026479.addLabel(\"H22\",{\"position\": {\"x\": -0.25960651450422983, \"y\": -0.9796549910543683, \"z\": -1.9764123158348168}, \"fontSize\": 12, \"fontColor\": \"black\", \"backgroundColor\": \"white\", \"showBackground\": true});\n",
              "\tviewer_17189102565026479.zoomTo();\n",
              "viewer_17189102565026479.render();\n",
              "});\n",
              "</script>"
            ]
          },
          "metadata": {}
        }
      ]
    },
    {
      "cell_type": "code",
      "source": [
        "# Example SMILES string for ethanol\n",
        "smiles = \"NCC1(Cc2ccccc2)CC1\"\n",
        "visualize_smiles(smiles)"
      ],
      "metadata": {
        "colab": {
          "base_uri": "https://localhost:8080/",
          "height": 617
        },
        "id": "t2t3pCyrBQWo",
        "outputId": "9686195c-6478-45d6-ad19-e0f991c99da4"
      },
      "execution_count": 15,
      "outputs": [
        {
          "output_type": "display_data",
          "data": {
            "application/3dmoljs_load.v0": "<div id=\"3dmolviewer_17189102671647942\"  style=\"position: relative; width: 600px; height: 600px;\">\n        <p id=\"3dmolwarning_17189102671647942\" style=\"background-color:#ffcccc;color:black\">3Dmol.js failed to load for some reason.  Please check your browser console for error messages.<br></p>\n        </div>\n<script>\n\nvar loadScriptAsync = function(uri){\n  return new Promise((resolve, reject) => {\n    //this is to ignore the existence of requirejs amd\n    var savedexports, savedmodule;\n    if (typeof exports !== 'undefined') savedexports = exports;\n    else exports = {}\n    if (typeof module !== 'undefined') savedmodule = module;\n    else module = {}\n\n    var tag = document.createElement('script');\n    tag.src = uri;\n    tag.async = true;\n    tag.onload = () => {\n        exports = savedexports;\n        module = savedmodule;\n        resolve();\n    };\n  var firstScriptTag = document.getElementsByTagName('script')[0];\n  firstScriptTag.parentNode.insertBefore(tag, firstScriptTag);\n});\n};\n\nif(typeof $3Dmolpromise === 'undefined') {\n$3Dmolpromise = null;\n  $3Dmolpromise = loadScriptAsync('https://cdnjs.cloudflare.com/ajax/libs/3Dmol/2.1.0/3Dmol-min.js');\n}\n\nvar viewer_17189102671647942 = null;\nvar warn = document.getElementById(\"3dmolwarning_17189102671647942\");\nif(warn) {\n    warn.parentNode.removeChild(warn);\n}\n$3Dmolpromise.then(function() {\nviewer_17189102671647942 = $3Dmol.createViewer(document.getElementById(\"3dmolviewer_17189102671647942\"),{backgroundColor:\"white\"});\nviewer_17189102671647942.zoomTo();\n\tviewer_17189102671647942.addModel(\"\\n     RDKit          3D\\n\\n 27 28  0  0  0  0  0  0  0  0999 V2000\\n   -1.7570    1.6376   -1.2974 N   0  0  0  0  0  0  0  0  0  0  0  0\\n   -1.5960    0.1973   -1.1315 C   0  0  0  0  0  0  0  0  0  0  0  0\\n   -1.3823   -0.0449    0.3356 C   0  0  0  0  0  0  0  0  0  0  0  0\\n   -0.1820    0.6308    0.9201 C   0  0  0  0  0  0  0  0  0  0  0  0\\n    1.0786    0.1923    0.2674 C   0  0  0  0  0  0  0  0  0  0  0  0\\n    1.7942   -0.8924    0.7396 C   0  0  0  0  0  0  0  0  0  0  0  0\\n    2.9644   -1.2915    0.1263 C   0  0  0  0  0  0  0  0  0  0  0  0\\n    3.4834   -0.6454   -0.9753 C   0  0  0  0  0  0  0  0  0  0  0  0\\n    2.7711    0.4363   -1.4473 C   0  0  0  0  0  0  0  0  0  0  0  0\\n    1.5945    0.8421   -0.8353 C   0  0  0  0  0  0  0  0  0  0  0  0\\n   -2.6448   -0.0821    1.1506 C   0  0  0  0  0  0  0  0  0  0  0  0\\n   -1.7955   -1.3164    0.9737 C   0  0  0  0  0  0  0  0  0  0  0  0\\n   -2.4032    2.0058   -0.5681 H   0  0  0  0  0  0  0  0  0  0  0  0\\n   -2.0357    1.9136   -2.2424 H   0  0  0  0  0  0  0  0  0  0  0  0\\n   -2.4696   -0.3527   -1.4832 H   0  0  0  0  0  0  0  0  0  0  0  0\\n   -0.6993   -0.0746   -1.7389 H   0  0  0  0  0  0  0  0  0  0  0  0\\n   -0.1483    0.4370    2.0307 H   0  0  0  0  0  0  0  0  0  0  0  0\\n   -0.3036    1.7133    0.8072 H   0  0  0  0  0  0  0  0  0  0  0  0\\n    1.3829   -1.4027    1.6108 H   0  0  0  0  0  0  0  0  0  0  0  0\\n    3.5184   -2.1515    0.5123 H   0  0  0  0  0  0  0  0  0  0  0  0\\n    4.4055   -0.9788   -1.4395 H   0  0  0  0  0  0  0  0  0  0  0  0\\n    3.1532    0.9797   -2.3267 H   0  0  0  0  0  0  0  0  0  0  0  0\\n    1.0392    1.7017   -1.2193 H   0  0  0  0  0  0  0  0  0  0  0  0\\n   -2.6954    0.4212    2.1272 H   0  0  0  0  0  0  0  0  0  0  0  0\\n   -3.6323   -0.1114    0.6209 H   0  0  0  0  0  0  0  0  0  0  0  0\\n   -2.1694   -2.1318    0.3105 H   0  0  0  0  0  0  0  0  0  0  0  0\\n   -1.2709   -1.6326    1.8780 H   0  0  0  0  0  0  0  0  0  0  0  0\\n  1  2  1  0\\n  2  3  1  0\\n  3  4  1  0\\n  4  5  1  0\\n  5  6  2  0\\n  6  7  1  0\\n  7  8  2  0\\n  8  9  1  0\\n  9 10  2  0\\n  3 11  1  0\\n 11 12  1  0\\n 12  3  1  0\\n 10  5  1  0\\n  1 13  1  0\\n  1 14  1  0\\n  2 15  1  0\\n  2 16  1  0\\n  4 17  1  0\\n  4 18  1  0\\n  6 19  1  0\\n  7 20  1  0\\n  8 21  1  0\\n  9 22  1  0\\n 10 23  1  0\\n 11 24  1  0\\n 11 25  1  0\\n 12 26  1  0\\n 12 27  1  0\\nM  END\\n\",\"mol\");\n\tviewer_17189102671647942.setStyle({\"stick\": {}});\n\tviewer_17189102671647942.addLabel(\"N0\",{\"position\": {\"x\": -1.7569634100347997, \"y\": 1.6376166214919035, \"z\": -1.2974039987670418}, \"fontSize\": 12, \"fontColor\": \"black\", \"backgroundColor\": \"white\", \"showBackground\": true});\n\tviewer_17189102671647942.addLabel(\"C1\",{\"position\": {\"x\": -1.5960455297977574, \"y\": 0.19731040978932937, \"z\": -1.1315301213896924}, \"fontSize\": 12, \"fontColor\": \"black\", \"backgroundColor\": \"white\", \"showBackground\": true});\n\tviewer_17189102671647942.addLabel(\"C2\",{\"position\": {\"x\": -1.3823168322333437, \"y\": -0.044942069818902995, \"z\": 0.3355631345921883}, \"fontSize\": 12, \"fontColor\": \"black\", \"backgroundColor\": \"white\", \"showBackground\": true});\n\tviewer_17189102671647942.addLabel(\"C3\",{\"position\": {\"x\": -0.18199626634523952, \"y\": 0.6307585680848955, \"z\": 0.920090287476814}, \"fontSize\": 12, \"fontColor\": \"black\", \"backgroundColor\": \"white\", \"showBackground\": true});\n\tviewer_17189102671647942.addLabel(\"C4\",{\"position\": {\"x\": 1.078617911625365, \"y\": 0.19226502917349622, \"z\": 0.2673782595188148}, \"fontSize\": 12, \"fontColor\": \"black\", \"backgroundColor\": \"white\", \"showBackground\": true});\n\tviewer_17189102671647942.addLabel(\"C5\",{\"position\": {\"x\": 1.7941802085452372, \"y\": -0.8923732747176836, \"z\": 0.739584354489413}, \"fontSize\": 12, \"fontColor\": \"black\", \"backgroundColor\": \"white\", \"showBackground\": true});\n\tviewer_17189102671647942.addLabel(\"C6\",{\"position\": {\"x\": 2.9643535801412177, \"y\": -1.291478408143339, \"z\": 0.12631950661772393}, \"fontSize\": 12, \"fontColor\": \"black\", \"backgroundColor\": \"white\", \"showBackground\": true});\n\tviewer_17189102671647942.addLabel(\"C7\",{\"position\": {\"x\": 3.483401305184823, \"y\": -0.6454150396843352, \"z\": -0.9752930899132354}, \"fontSize\": 12, \"fontColor\": \"black\", \"backgroundColor\": \"white\", \"showBackground\": true});\n\tviewer_17189102671647942.addLabel(\"C8\",{\"position\": {\"x\": 2.771053066357628, \"y\": 0.4363075249759056, \"z\": -1.4473384412300756}, \"fontSize\": 12, \"fontColor\": \"black\", \"backgroundColor\": \"white\", \"showBackground\": true});\n\tviewer_17189102671647942.addLabel(\"C9\",{\"position\": {\"x\": 1.594469042127219, \"y\": 0.8421488029392664, \"z\": -0.8352896465759584}, \"fontSize\": 12, \"fontColor\": \"black\", \"backgroundColor\": \"white\", \"showBackground\": true});\n\tviewer_17189102671647942.addLabel(\"C10\",{\"position\": {\"x\": -2.6448249697487904, \"y\": -0.08214313862618293, \"z\": 1.1506128808050144}, \"fontSize\": 12, \"fontColor\": \"black\", \"backgroundColor\": \"white\", \"showBackground\": true});\n\tviewer_17189102671647942.addLabel(\"C11\",{\"position\": {\"x\": -1.7954888490502194, \"y\": -1.3163700805943421, \"z\": 0.9737486366696186}, \"fontSize\": 12, \"fontColor\": \"black\", \"backgroundColor\": \"white\", \"showBackground\": true});\n\tviewer_17189102671647942.addLabel(\"H12\",{\"position\": {\"x\": -2.4031523563800605, \"y\": 2.0058294011396116, \"z\": -0.5681155600727541}, \"fontSize\": 12, \"fontColor\": \"black\", \"backgroundColor\": \"white\", \"showBackground\": true});\n\tviewer_17189102671647942.addLabel(\"H13\",{\"position\": {\"x\": -2.0357422773323357, \"y\": 1.9136109285933602, \"z\": -2.242368094342729}, \"fontSize\": 12, \"fontColor\": \"black\", \"backgroundColor\": \"white\", \"showBackground\": true});\n\tviewer_17189102671647942.addLabel(\"H14\",{\"position\": {\"x\": -2.4696248198186415, \"y\": -0.35274010640211334, \"z\": -1.4832102071857902}, \"fontSize\": 12, \"fontColor\": \"black\", \"backgroundColor\": \"white\", \"showBackground\": true});\n\tviewer_17189102671647942.addLabel(\"H15\",{\"position\": {\"x\": -0.6993031239172155, \"y\": -0.07460882771945715, \"z\": -1.738910009893004}, \"fontSize\": 12, \"fontColor\": \"black\", \"backgroundColor\": \"white\", \"showBackground\": true});\n\tviewer_17189102671647942.addLabel(\"H16\",{\"position\": {\"x\": -0.14825003599598846, \"y\": 0.4370367394330886, \"z\": 2.030707256746224}, \"fontSize\": 12, \"fontColor\": \"black\", \"backgroundColor\": \"white\", \"showBackground\": true});\n\tviewer_17189102671647942.addLabel(\"H17\",{\"position\": {\"x\": -0.30359931862042, \"y\": 1.713287461541983, \"z\": 0.8072401760196557}, \"fontSize\": 12, \"fontColor\": \"black\", \"backgroundColor\": \"white\", \"showBackground\": true});\n\tviewer_17189102671647942.addLabel(\"H18\",{\"position\": {\"x\": 1.3829204276611557, \"y\": -1.4026801045992634, \"z\": 1.6108306821725986}, \"fontSize\": 12, \"fontColor\": \"black\", \"backgroundColor\": \"white\", \"showBackground\": true});\n\tviewer_17189102671647942.addLabel(\"H19\",{\"position\": {\"x\": 3.5184451226584685, \"y\": -2.1514804998655235, \"z\": 0.5122692227937842}, \"fontSize\": 12, \"fontColor\": \"black\", \"backgroundColor\": \"white\", \"showBackground\": true});\n\tviewer_17189102671647942.addLabel(\"H20\",{\"position\": {\"x\": 4.405537498974744, \"y\": -0.9788411255578413, \"z\": -1.439474240581541}, \"fontSize\": 12, \"fontColor\": \"black\", \"backgroundColor\": \"white\", \"showBackground\": true});\n\tviewer_17189102671647942.addLabel(\"H21\",{\"position\": {\"x\": 3.1532299720184804, \"y\": 0.9797253714371571, \"z\": -2.326715030661196}, \"fontSize\": 12, \"fontColor\": \"black\", \"backgroundColor\": \"white\", \"showBackground\": true});\n\tviewer_17189102671647942.addLabel(\"H22\",{\"position\": {\"x\": 1.039200890548624, \"y\": 1.701703452041056, \"z\": -1.2193401729920166}, \"fontSize\": 12, \"fontColor\": \"black\", \"backgroundColor\": \"white\", \"showBackground\": true});\n\tviewer_17189102671647942.addLabel(\"H23\",{\"position\": {\"x\": -2.6953801514829685, \"y\": 0.42124436997911047, \"z\": 2.1272373612272437}, \"fontSize\": 12, \"fontColor\": \"black\", \"backgroundColor\": \"white\", \"showBackground\": true});\n\tviewer_17189102671647942.addLabel(\"H24\",{\"position\": {\"x\": -3.6323365030972674, \"y\": -0.11141730283407925, \"z\": 0.6208535848066885}, \"fontSize\": 12, \"fontColor\": \"black\", \"backgroundColor\": \"white\", \"showBackground\": true});\n\tviewer_17189102671647942.addLabel(\"H25\",{\"position\": {\"x\": -2.1694356784234072, \"y\": -2.131785018950761, \"z\": 0.3105306616518466}, \"fontSize\": 12, \"fontColor\": \"black\", \"backgroundColor\": \"white\", \"showBackground\": true});\n\tviewer_17189102671647942.addLabel(\"H26\",{\"position\": {\"x\": -1.2709489035643833, \"y\": -1.6325696831064291, \"z\": 1.8779998669473366}, \"fontSize\": 12, \"fontColor\": \"black\", \"backgroundColor\": \"white\", \"showBackground\": true});\n\tviewer_17189102671647942.zoomTo();\nviewer_17189102671647942.render();\n});\n</script>",
            "text/html": [
              "<div id=\"3dmolviewer_17189102671647942\"  style=\"position: relative; width: 600px; height: 600px;\">\n",
              "        <p id=\"3dmolwarning_17189102671647942\" style=\"background-color:#ffcccc;color:black\">3Dmol.js failed to load for some reason.  Please check your browser console for error messages.<br></p>\n",
              "        </div>\n",
              "<script>\n",
              "\n",
              "var loadScriptAsync = function(uri){\n",
              "  return new Promise((resolve, reject) => {\n",
              "    //this is to ignore the existence of requirejs amd\n",
              "    var savedexports, savedmodule;\n",
              "    if (typeof exports !== 'undefined') savedexports = exports;\n",
              "    else exports = {}\n",
              "    if (typeof module !== 'undefined') savedmodule = module;\n",
              "    else module = {}\n",
              "\n",
              "    var tag = document.createElement('script');\n",
              "    tag.src = uri;\n",
              "    tag.async = true;\n",
              "    tag.onload = () => {\n",
              "        exports = savedexports;\n",
              "        module = savedmodule;\n",
              "        resolve();\n",
              "    };\n",
              "  var firstScriptTag = document.getElementsByTagName('script')[0];\n",
              "  firstScriptTag.parentNode.insertBefore(tag, firstScriptTag);\n",
              "});\n",
              "};\n",
              "\n",
              "if(typeof $3Dmolpromise === 'undefined') {\n",
              "$3Dmolpromise = null;\n",
              "  $3Dmolpromise = loadScriptAsync('https://cdnjs.cloudflare.com/ajax/libs/3Dmol/2.1.0/3Dmol-min.js');\n",
              "}\n",
              "\n",
              "var viewer_17189102671647942 = null;\n",
              "var warn = document.getElementById(\"3dmolwarning_17189102671647942\");\n",
              "if(warn) {\n",
              "    warn.parentNode.removeChild(warn);\n",
              "}\n",
              "$3Dmolpromise.then(function() {\n",
              "viewer_17189102671647942 = $3Dmol.createViewer(document.getElementById(\"3dmolviewer_17189102671647942\"),{backgroundColor:\"white\"});\n",
              "viewer_17189102671647942.zoomTo();\n",
              "\tviewer_17189102671647942.addModel(\"\\n     RDKit          3D\\n\\n 27 28  0  0  0  0  0  0  0  0999 V2000\\n   -1.7570    1.6376   -1.2974 N   0  0  0  0  0  0  0  0  0  0  0  0\\n   -1.5960    0.1973   -1.1315 C   0  0  0  0  0  0  0  0  0  0  0  0\\n   -1.3823   -0.0449    0.3356 C   0  0  0  0  0  0  0  0  0  0  0  0\\n   -0.1820    0.6308    0.9201 C   0  0  0  0  0  0  0  0  0  0  0  0\\n    1.0786    0.1923    0.2674 C   0  0  0  0  0  0  0  0  0  0  0  0\\n    1.7942   -0.8924    0.7396 C   0  0  0  0  0  0  0  0  0  0  0  0\\n    2.9644   -1.2915    0.1263 C   0  0  0  0  0  0  0  0  0  0  0  0\\n    3.4834   -0.6454   -0.9753 C   0  0  0  0  0  0  0  0  0  0  0  0\\n    2.7711    0.4363   -1.4473 C   0  0  0  0  0  0  0  0  0  0  0  0\\n    1.5945    0.8421   -0.8353 C   0  0  0  0  0  0  0  0  0  0  0  0\\n   -2.6448   -0.0821    1.1506 C   0  0  0  0  0  0  0  0  0  0  0  0\\n   -1.7955   -1.3164    0.9737 C   0  0  0  0  0  0  0  0  0  0  0  0\\n   -2.4032    2.0058   -0.5681 H   0  0  0  0  0  0  0  0  0  0  0  0\\n   -2.0357    1.9136   -2.2424 H   0  0  0  0  0  0  0  0  0  0  0  0\\n   -2.4696   -0.3527   -1.4832 H   0  0  0  0  0  0  0  0  0  0  0  0\\n   -0.6993   -0.0746   -1.7389 H   0  0  0  0  0  0  0  0  0  0  0  0\\n   -0.1483    0.4370    2.0307 H   0  0  0  0  0  0  0  0  0  0  0  0\\n   -0.3036    1.7133    0.8072 H   0  0  0  0  0  0  0  0  0  0  0  0\\n    1.3829   -1.4027    1.6108 H   0  0  0  0  0  0  0  0  0  0  0  0\\n    3.5184   -2.1515    0.5123 H   0  0  0  0  0  0  0  0  0  0  0  0\\n    4.4055   -0.9788   -1.4395 H   0  0  0  0  0  0  0  0  0  0  0  0\\n    3.1532    0.9797   -2.3267 H   0  0  0  0  0  0  0  0  0  0  0  0\\n    1.0392    1.7017   -1.2193 H   0  0  0  0  0  0  0  0  0  0  0  0\\n   -2.6954    0.4212    2.1272 H   0  0  0  0  0  0  0  0  0  0  0  0\\n   -3.6323   -0.1114    0.6209 H   0  0  0  0  0  0  0  0  0  0  0  0\\n   -2.1694   -2.1318    0.3105 H   0  0  0  0  0  0  0  0  0  0  0  0\\n   -1.2709   -1.6326    1.8780 H   0  0  0  0  0  0  0  0  0  0  0  0\\n  1  2  1  0\\n  2  3  1  0\\n  3  4  1  0\\n  4  5  1  0\\n  5  6  2  0\\n  6  7  1  0\\n  7  8  2  0\\n  8  9  1  0\\n  9 10  2  0\\n  3 11  1  0\\n 11 12  1  0\\n 12  3  1  0\\n 10  5  1  0\\n  1 13  1  0\\n  1 14  1  0\\n  2 15  1  0\\n  2 16  1  0\\n  4 17  1  0\\n  4 18  1  0\\n  6 19  1  0\\n  7 20  1  0\\n  8 21  1  0\\n  9 22  1  0\\n 10 23  1  0\\n 11 24  1  0\\n 11 25  1  0\\n 12 26  1  0\\n 12 27  1  0\\nM  END\\n\",\"mol\");\n",
              "\tviewer_17189102671647942.setStyle({\"stick\": {}});\n",
              "\tviewer_17189102671647942.addLabel(\"N0\",{\"position\": {\"x\": -1.7569634100347997, \"y\": 1.6376166214919035, \"z\": -1.2974039987670418}, \"fontSize\": 12, \"fontColor\": \"black\", \"backgroundColor\": \"white\", \"showBackground\": true});\n",
              "\tviewer_17189102671647942.addLabel(\"C1\",{\"position\": {\"x\": -1.5960455297977574, \"y\": 0.19731040978932937, \"z\": -1.1315301213896924}, \"fontSize\": 12, \"fontColor\": \"black\", \"backgroundColor\": \"white\", \"showBackground\": true});\n",
              "\tviewer_17189102671647942.addLabel(\"C2\",{\"position\": {\"x\": -1.3823168322333437, \"y\": -0.044942069818902995, \"z\": 0.3355631345921883}, \"fontSize\": 12, \"fontColor\": \"black\", \"backgroundColor\": \"white\", \"showBackground\": true});\n",
              "\tviewer_17189102671647942.addLabel(\"C3\",{\"position\": {\"x\": -0.18199626634523952, \"y\": 0.6307585680848955, \"z\": 0.920090287476814}, \"fontSize\": 12, \"fontColor\": \"black\", \"backgroundColor\": \"white\", \"showBackground\": true});\n",
              "\tviewer_17189102671647942.addLabel(\"C4\",{\"position\": {\"x\": 1.078617911625365, \"y\": 0.19226502917349622, \"z\": 0.2673782595188148}, \"fontSize\": 12, \"fontColor\": \"black\", \"backgroundColor\": \"white\", \"showBackground\": true});\n",
              "\tviewer_17189102671647942.addLabel(\"C5\",{\"position\": {\"x\": 1.7941802085452372, \"y\": -0.8923732747176836, \"z\": 0.739584354489413}, \"fontSize\": 12, \"fontColor\": \"black\", \"backgroundColor\": \"white\", \"showBackground\": true});\n",
              "\tviewer_17189102671647942.addLabel(\"C6\",{\"position\": {\"x\": 2.9643535801412177, \"y\": -1.291478408143339, \"z\": 0.12631950661772393}, \"fontSize\": 12, \"fontColor\": \"black\", \"backgroundColor\": \"white\", \"showBackground\": true});\n",
              "\tviewer_17189102671647942.addLabel(\"C7\",{\"position\": {\"x\": 3.483401305184823, \"y\": -0.6454150396843352, \"z\": -0.9752930899132354}, \"fontSize\": 12, \"fontColor\": \"black\", \"backgroundColor\": \"white\", \"showBackground\": true});\n",
              "\tviewer_17189102671647942.addLabel(\"C8\",{\"position\": {\"x\": 2.771053066357628, \"y\": 0.4363075249759056, \"z\": -1.4473384412300756}, \"fontSize\": 12, \"fontColor\": \"black\", \"backgroundColor\": \"white\", \"showBackground\": true});\n",
              "\tviewer_17189102671647942.addLabel(\"C9\",{\"position\": {\"x\": 1.594469042127219, \"y\": 0.8421488029392664, \"z\": -0.8352896465759584}, \"fontSize\": 12, \"fontColor\": \"black\", \"backgroundColor\": \"white\", \"showBackground\": true});\n",
              "\tviewer_17189102671647942.addLabel(\"C10\",{\"position\": {\"x\": -2.6448249697487904, \"y\": -0.08214313862618293, \"z\": 1.1506128808050144}, \"fontSize\": 12, \"fontColor\": \"black\", \"backgroundColor\": \"white\", \"showBackground\": true});\n",
              "\tviewer_17189102671647942.addLabel(\"C11\",{\"position\": {\"x\": -1.7954888490502194, \"y\": -1.3163700805943421, \"z\": 0.9737486366696186}, \"fontSize\": 12, \"fontColor\": \"black\", \"backgroundColor\": \"white\", \"showBackground\": true});\n",
              "\tviewer_17189102671647942.addLabel(\"H12\",{\"position\": {\"x\": -2.4031523563800605, \"y\": 2.0058294011396116, \"z\": -0.5681155600727541}, \"fontSize\": 12, \"fontColor\": \"black\", \"backgroundColor\": \"white\", \"showBackground\": true});\n",
              "\tviewer_17189102671647942.addLabel(\"H13\",{\"position\": {\"x\": -2.0357422773323357, \"y\": 1.9136109285933602, \"z\": -2.242368094342729}, \"fontSize\": 12, \"fontColor\": \"black\", \"backgroundColor\": \"white\", \"showBackground\": true});\n",
              "\tviewer_17189102671647942.addLabel(\"H14\",{\"position\": {\"x\": -2.4696248198186415, \"y\": -0.35274010640211334, \"z\": -1.4832102071857902}, \"fontSize\": 12, \"fontColor\": \"black\", \"backgroundColor\": \"white\", \"showBackground\": true});\n",
              "\tviewer_17189102671647942.addLabel(\"H15\",{\"position\": {\"x\": -0.6993031239172155, \"y\": -0.07460882771945715, \"z\": -1.738910009893004}, \"fontSize\": 12, \"fontColor\": \"black\", \"backgroundColor\": \"white\", \"showBackground\": true});\n",
              "\tviewer_17189102671647942.addLabel(\"H16\",{\"position\": {\"x\": -0.14825003599598846, \"y\": 0.4370367394330886, \"z\": 2.030707256746224}, \"fontSize\": 12, \"fontColor\": \"black\", \"backgroundColor\": \"white\", \"showBackground\": true});\n",
              "\tviewer_17189102671647942.addLabel(\"H17\",{\"position\": {\"x\": -0.30359931862042, \"y\": 1.713287461541983, \"z\": 0.8072401760196557}, \"fontSize\": 12, \"fontColor\": \"black\", \"backgroundColor\": \"white\", \"showBackground\": true});\n",
              "\tviewer_17189102671647942.addLabel(\"H18\",{\"position\": {\"x\": 1.3829204276611557, \"y\": -1.4026801045992634, \"z\": 1.6108306821725986}, \"fontSize\": 12, \"fontColor\": \"black\", \"backgroundColor\": \"white\", \"showBackground\": true});\n",
              "\tviewer_17189102671647942.addLabel(\"H19\",{\"position\": {\"x\": 3.5184451226584685, \"y\": -2.1514804998655235, \"z\": 0.5122692227937842}, \"fontSize\": 12, \"fontColor\": \"black\", \"backgroundColor\": \"white\", \"showBackground\": true});\n",
              "\tviewer_17189102671647942.addLabel(\"H20\",{\"position\": {\"x\": 4.405537498974744, \"y\": -0.9788411255578413, \"z\": -1.439474240581541}, \"fontSize\": 12, \"fontColor\": \"black\", \"backgroundColor\": \"white\", \"showBackground\": true});\n",
              "\tviewer_17189102671647942.addLabel(\"H21\",{\"position\": {\"x\": 3.1532299720184804, \"y\": 0.9797253714371571, \"z\": -2.326715030661196}, \"fontSize\": 12, \"fontColor\": \"black\", \"backgroundColor\": \"white\", \"showBackground\": true});\n",
              "\tviewer_17189102671647942.addLabel(\"H22\",{\"position\": {\"x\": 1.039200890548624, \"y\": 1.701703452041056, \"z\": -1.2193401729920166}, \"fontSize\": 12, \"fontColor\": \"black\", \"backgroundColor\": \"white\", \"showBackground\": true});\n",
              "\tviewer_17189102671647942.addLabel(\"H23\",{\"position\": {\"x\": -2.6953801514829685, \"y\": 0.42124436997911047, \"z\": 2.1272373612272437}, \"fontSize\": 12, \"fontColor\": \"black\", \"backgroundColor\": \"white\", \"showBackground\": true});\n",
              "\tviewer_17189102671647942.addLabel(\"H24\",{\"position\": {\"x\": -3.6323365030972674, \"y\": -0.11141730283407925, \"z\": 0.6208535848066885}, \"fontSize\": 12, \"fontColor\": \"black\", \"backgroundColor\": \"white\", \"showBackground\": true});\n",
              "\tviewer_17189102671647942.addLabel(\"H25\",{\"position\": {\"x\": -2.1694356784234072, \"y\": -2.131785018950761, \"z\": 0.3105306616518466}, \"fontSize\": 12, \"fontColor\": \"black\", \"backgroundColor\": \"white\", \"showBackground\": true});\n",
              "\tviewer_17189102671647942.addLabel(\"H26\",{\"position\": {\"x\": -1.2709489035643833, \"y\": -1.6325696831064291, \"z\": 1.8779998669473366}, \"fontSize\": 12, \"fontColor\": \"black\", \"backgroundColor\": \"white\", \"showBackground\": true});\n",
              "\tviewer_17189102671647942.zoomTo();\n",
              "viewer_17189102671647942.render();\n",
              "});\n",
              "</script>"
            ]
          },
          "metadata": {}
        }
      ]
    },
    {
      "cell_type": "code",
      "source": [
        "# Example SMILES string for ethanol\n",
        "smiles = \"C#CC[C@@H](CC(=O)N[Dy])Nc1nc(NCC2(Cc3ccccc3)CC2)nc(Nc2ccc(-c3ccccc3)cn2)n1\"\n",
        "visualize_smiles(smiles)"
      ],
      "metadata": {
        "colab": {
          "base_uri": "https://localhost:8080/",
          "height": 652
        },
        "id": "9xgHnOqJBTVn",
        "outputId": "f0d14fb2-36f0-4b24-dd08-f1f3552e062b"
      },
      "execution_count": 16,
      "outputs": [
        {
          "output_type": "stream",
          "name": "stderr",
          "text": [
            "[19:04:32] UFFTYPER: Unrecognized charge state for atom: 8\n",
            "[19:04:32] UFFTYPER: Unrecognized atom type: Dy5+3 (8)\n"
          ]
        },
        {
          "output_type": "display_data",
          "data": {
            "application/3dmoljs_load.v0": "<div id=\"3dmolviewer_17189102726540787\"  style=\"position: relative; width: 600px; height: 600px;\">\n        <p id=\"3dmolwarning_17189102726540787\" style=\"background-color:#ffcccc;color:black\">3Dmol.js failed to load for some reason.  Please check your browser console for error messages.<br></p>\n        </div>\n<script>\n\nvar loadScriptAsync = function(uri){\n  return new Promise((resolve, reject) => {\n    //this is to ignore the existence of requirejs amd\n    var savedexports, savedmodule;\n    if (typeof exports !== 'undefined') savedexports = exports;\n    else exports = {}\n    if (typeof module !== 'undefined') savedmodule = module;\n    else module = {}\n\n    var tag = document.createElement('script');\n    tag.src = uri;\n    tag.async = true;\n    tag.onload = () => {\n        exports = savedexports;\n        module = savedmodule;\n        resolve();\n    };\n  var firstScriptTag = document.getElementsByTagName('script')[0];\n  firstScriptTag.parentNode.insertBefore(tag, firstScriptTag);\n});\n};\n\nif(typeof $3Dmolpromise === 'undefined') {\n$3Dmolpromise = null;\n  $3Dmolpromise = loadScriptAsync('https://cdnjs.cloudflare.com/ajax/libs/3Dmol/2.1.0/3Dmol-min.js');\n}\n\nvar viewer_17189102726540787 = null;\nvar warn = document.getElementById(\"3dmolwarning_17189102726540787\");\nif(warn) {\n    warn.parentNode.removeChild(warn);\n}\n$3Dmolpromise.then(function() {\nviewer_17189102726540787 = $3Dmol.createViewer(document.getElementById(\"3dmolviewer_17189102726540787\"),{backgroundColor:\"white\"});\nviewer_17189102726540787.zoomTo();\n\tviewer_17189102726540787.addModel(\"\\n     RDKit          3D\\n\\n 72 76  0  0  0  0  0  0  0  0999 V2000\\n   -3.6656    5.3322   -4.4305 C   0  0  0  0  0  0  0  0  0  0  0  0\\n   -2.9306    4.8086   -3.8382 C   0  0  0  0  0  0  0  0  0  0  0  0\\n   -1.8237    4.0485   -2.9678 C   0  0  0  0  0  0  0  0  0  0  0  0\\n   -0.5806    4.8345   -3.4015 C   0  0  1  0  0  0  0  0  0  0  0  0\\n   -0.9014    6.3110   -3.0431 C   0  0  0  0  0  0  0  0  0  0  0  0\\n   -1.1090    6.4707   -1.5862 C   0  0  0  0  0  0  0  0  0  0  0  0\\n   -0.6444    5.5966   -0.8136 O   0  0  0  0  0  0  0  0  0  0  0  0\\n   -1.8108    7.5694   -1.0672 N   0  0  0  0  0  0  0  0  0  0  0  0\\n   -2.0502    7.7098    0.9042 Dy  0  0  0  0  0  1  0  0  0  0  0  0\\n    0.6151    4.4418   -2.7563 N   0  0  0  0  0  0  0  0  0  0  0  0\\n    0.8050    3.3288   -1.8923 C   0  0  0  0  0  0  0  0  0  0  0  0\\n   -0.2264    2.5108   -1.6650 N   0  0  0  0  0  0  0  0  0  0  0  0\\n   -0.1883    1.4581   -0.8181 C   0  0  0  0  0  0  0  0  0  0  0  0\\n   -1.2921    0.5967   -0.6541 N   0  0  0  0  0  0  0  0  0  0  0  0\\n   -1.3489   -0.4593    0.3103 C   0  0  0  0  0  0  0  0  0  0  0  0\\n   -2.4447   -1.4636   -0.0242 C   0  0  0  0  0  0  0  0  0  0  0  0\\n   -2.5920   -2.6317    0.9562 C   0  0  0  0  0  0  0  0  0  0  0  0\\n   -3.6423   -3.5864    0.5805 C   0  0  0  0  0  0  0  0  0  0  0  0\\n   -3.3778   -4.6499   -0.2655 C   0  0  0  0  0  0  0  0  0  0  0  0\\n   -4.3645   -5.5591   -0.6056 C   0  0  0  0  0  0  0  0  0  0  0  0\\n   -5.6433   -5.4579   -0.1297 C   0  0  0  0  0  0  0  0  0  0  0  0\\n   -5.9154   -4.3948    0.7176 C   0  0  0  0  0  0  0  0  0  0  0  0\\n   -4.9208   -3.4716    1.0640 C   0  0  0  0  0  0  0  0  0  0  0  0\\n   -2.7010   -1.7621   -1.4578 C   0  0  0  0  0  0  0  0  0  0  0  0\\n   -3.7271   -1.0398   -0.6290 C   0  0  0  0  0  0  0  0  0  0  0  0\\n    0.9633    1.2349   -0.1772 N   0  0  0  0  0  0  0  0  0  0  0  0\\n    2.0356    2.0129   -0.3601 C   0  0  0  0  0  0  0  0  0  0  0  0\\n    3.2844    1.7343    0.2214 N   0  0  0  0  0  0  0  0  0  0  0  0\\n    3.6567    0.6316    0.9738 C   0  0  0  0  0  0  0  0  0  0  0  0\\n    4.8574    0.5352    1.5923 C   0  0  0  0  0  0  0  0  0  0  0  0\\n    5.3933   -0.5162    2.2632 C   0  0  0  0  0  0  0  0  0  0  0  0\\n    4.5700   -1.6745    2.3203 C   0  0  0  0  0  0  0  0  0  0  0  0\\n    5.1434   -2.8179    2.9953 C   0  0  0  0  0  0  0  0  0  0  0  0\\n    6.0012   -2.6787    4.0894 C   0  0  0  0  0  0  0  0  0  0  0  0\\n    6.5607   -3.8392    4.6642 C   0  0  0  0  0  0  0  0  0  0  0  0\\n    6.2920   -5.0645    4.1906 C   0  0  0  0  0  0  0  0  0  0  0  0\\n    5.4483   -5.2391    3.1115 C   0  0  0  0  0  0  0  0  0  0  0  0\\n    4.8930   -4.0861    2.5415 C   0  0  0  0  0  0  0  0  0  0  0  0\\n    3.3654   -1.6236    1.7246 C   0  0  0  0  0  0  0  0  0  0  0  0\\n    2.8917   -0.5271    1.0663 N   0  0  0  0  0  0  0  0  0  0  0  0\\n    1.9296    3.0641   -1.2305 N   0  0  0  0  0  0  0  0  0  0  0  0\\n   -4.4081    5.8543   -5.0481 H   0  0  0  0  0  0  0  0  0  0  0  0\\n   -1.9120    3.0481   -3.3140 H   0  0  0  0  0  0  0  0  0  0  0  0\\n   -2.1159    4.2293   -1.9606 H   0  0  0  0  0  0  0  0  0  0  0  0\\n   -0.5186    4.7817   -4.4889 H   0  0  0  0  0  0  0  0  0  0  0  0\\n   -1.8463    6.5973   -3.5208 H   0  0  0  0  0  0  0  0  0  0  0  0\\n   -0.1179    6.9342   -3.4655 H   0  0  0  0  0  0  0  0  0  0  0  0\\n   -2.1986    8.2921   -1.7437 H   0  0  0  0  0  0  0  0  0  0  0  0\\n    1.4718    5.0540   -2.9542 H   0  0  0  0  0  0  0  0  0  0  0  0\\n   -2.1013    0.7306   -1.2741 H   0  0  0  0  0  0  0  0  0  0  0  0\\n   -1.6802    0.0116    1.2969 H   0  0  0  0  0  0  0  0  0  0  0  0\\n   -0.4141   -0.9779    0.5026 H   0  0  0  0  0  0  0  0  0  0  0  0\\n   -1.6376   -3.1476    1.1244 H   0  0  0  0  0  0  0  0  0  0  0  0\\n   -2.8721   -2.1540    1.9648 H   0  0  0  0  0  0  0  0  0  0  0  0\\n   -2.3800   -4.7926   -0.6875 H   0  0  0  0  0  0  0  0  0  0  0  0\\n   -4.1269   -6.3856   -1.2718 H   0  0  0  0  0  0  0  0  0  0  0  0\\n   -6.4029   -6.1971   -0.4130 H   0  0  0  0  0  0  0  0  0  0  0  0\\n   -6.9102   -4.2992    1.1062 H   0  0  0  0  0  0  0  0  0  0  0  0\\n   -5.2563   -2.6828    1.7388 H   0  0  0  0  0  0  0  0  0  0  0  0\\n   -2.9475   -2.7666   -1.8179 H   0  0  0  0  0  0  0  0  0  0  0  0\\n   -2.1981   -1.1351   -2.2286 H   0  0  0  0  0  0  0  0  0  0  0  0\\n   -4.6412   -1.6369   -0.4522 H   0  0  0  0  0  0  0  0  0  0  0  0\\n   -3.9112    0.0277   -0.7876 H   0  0  0  0  0  0  0  0  0  0  0  0\\n    4.0560    2.4690    0.0640 H   0  0  0  0  0  0  0  0  0  0  0  0\\n    5.4838    1.4764    1.5261 H   0  0  0  0  0  0  0  0  0  0  0  0\\n    6.3507   -0.5228    2.7281 H   0  0  0  0  0  0  0  0  0  0  0  0\\n    6.2675   -1.7467    4.5421 H   0  0  0  0  0  0  0  0  0  0  0  0\\n    7.2352   -3.7335    5.5265 H   0  0  0  0  0  0  0  0  0  0  0  0\\n    6.7257   -5.9510    4.6484 H   0  0  0  0  0  0  0  0  0  0  0  0\\n    5.2497   -6.2231    2.7389 H   0  0  0  0  0  0  0  0  0  0  0  0\\n    4.2337   -4.3082    1.6827 H   0  0  0  0  0  0  0  0  0  0  0  0\\n    2.7176   -2.5328    1.7643 H   0  0  0  0  0  0  0  0  0  0  0  0\\n  1  2  3  0\\n  2  3  1  0\\n  3  4  1  0\\n  4  5  1  0\\n  5  6  1  0\\n  6  7  2  0\\n  6  8  1  0\\n  8  9  1  0\\n  4 10  1  0\\n 10 11  1  0\\n 11 12  2  0\\n 12 13  1  0\\n 13 14  1  0\\n 14 15  1  0\\n 15 16  1  0\\n 16 17  1  0\\n 17 18  1  0\\n 18 19  2  0\\n 19 20  1  0\\n 20 21  2  0\\n 21 22  1  0\\n 22 23  2  0\\n 16 24  1  0\\n 24 25  1  0\\n 13 26  2  0\\n 26 27  1  0\\n 27 28  1  0\\n 28 29  1  0\\n 29 30  2  0\\n 30 31  1  0\\n 31 32  2  0\\n 32 33  1  0\\n 33 34  2  0\\n 34 35  1  0\\n 35 36  2  0\\n 36 37  1  0\\n 37 38  2  0\\n 32 39  1  0\\n 39 40  2  0\\n 27 41  2  0\\n 41 11  1  0\\n 25 16  1  0\\n 40 29  1  0\\n 23 18  1  0\\n 38 33  1  0\\n  1 42  1  0\\n  3 43  1  0\\n  3 44  1  0\\n  4 45  1  6\\n  5 46  1  0\\n  5 47  1  0\\n  8 48  1  0\\n 10 49  1  0\\n 14 50  1  0\\n 15 51  1  0\\n 15 52  1  0\\n 17 53  1  0\\n 17 54  1  0\\n 19 55  1  0\\n 20 56  1  0\\n 21 57  1  0\\n 22 58  1  0\\n 23 59  1  0\\n 24 60  1  0\\n 24 61  1  0\\n 25 62  1  0\\n 25 63  1  0\\n 28 64  1  0\\n 30 65  1  0\\n 31 66  1  0\\n 34 67  1  0\\n 35 68  1  0\\n 36 69  1  0\\n 37 70  1  0\\n 38 71  1  0\\n 39 72  1  0\\nM  END\\n\",\"mol\");\n\tviewer_17189102726540787.setStyle({\"stick\": {}});\n\tviewer_17189102726540787.addLabel(\"C0\",{\"position\": {\"x\": -3.6656052071276815, \"y\": 5.332219815812336, \"z\": -4.430535532740943}, \"fontSize\": 12, \"fontColor\": \"black\", \"backgroundColor\": \"white\", \"showBackground\": true});\n\tviewer_17189102726540787.addLabel(\"C1\",{\"position\": {\"x\": -2.9306021009711607, \"y\": 4.808553873921017, \"z\": -3.8381528213235216}, \"fontSize\": 12, \"fontColor\": \"black\", \"backgroundColor\": \"white\", \"showBackground\": true});\n\tviewer_17189102726540787.addLabel(\"C2\",{\"position\": {\"x\": -1.8237379177290587, \"y\": 4.048464707520054, \"z\": -2.9678251579069905}, \"fontSize\": 12, \"fontColor\": \"black\", \"backgroundColor\": \"white\", \"showBackground\": true});\n\tviewer_17189102726540787.addLabel(\"C3\",{\"position\": {\"x\": -0.5806369590851047, \"y\": 4.83453446494401, \"z\": -3.4014674357979655}, \"fontSize\": 12, \"fontColor\": \"black\", \"backgroundColor\": \"white\", \"showBackground\": true});\n\tviewer_17189102726540787.addLabel(\"C4\",{\"position\": {\"x\": -0.9014021453286764, \"y\": 6.311003287854495, \"z\": -3.043070824501551}, \"fontSize\": 12, \"fontColor\": \"black\", \"backgroundColor\": \"white\", \"showBackground\": true});\n\tviewer_17189102726540787.addLabel(\"C5\",{\"position\": {\"x\": -1.109015153646534, \"y\": 6.470678178481991, \"z\": -1.5862219281689063}, \"fontSize\": 12, \"fontColor\": \"black\", \"backgroundColor\": \"white\", \"showBackground\": true});\n\tviewer_17189102726540787.addLabel(\"O6\",{\"position\": {\"x\": -0.6444099300893453, \"y\": 5.596602865134359, \"z\": -0.8135733605786235}, \"fontSize\": 12, \"fontColor\": \"black\", \"backgroundColor\": \"white\", \"showBackground\": true});\n\tviewer_17189102726540787.addLabel(\"N7\",{\"position\": {\"x\": -1.8107922701810353, \"y\": 7.569358766446861, \"z\": -1.067232860809479}, \"fontSize\": 12, \"fontColor\": \"black\", \"backgroundColor\": \"white\", \"showBackground\": true});\n\tviewer_17189102726540787.addLabel(\"Dy8\",{\"position\": {\"x\": -2.050177013851409, \"y\": 7.709835708393986, \"z\": 0.904177393220971}, \"fontSize\": 12, \"fontColor\": \"black\", \"backgroundColor\": \"white\", \"showBackground\": true});\n\tviewer_17189102726540787.addLabel(\"N9\",{\"position\": {\"x\": 0.6151011611355215, \"y\": 4.441803009295829, \"z\": -2.7562502108819236}, \"fontSize\": 12, \"fontColor\": \"black\", \"backgroundColor\": \"white\", \"showBackground\": true});\n\tviewer_17189102726540787.addLabel(\"C10\",{\"position\": {\"x\": 0.8049772903017982, \"y\": 3.328764377257339, \"z\": -1.8923238248584084}, \"fontSize\": 12, \"fontColor\": \"black\", \"backgroundColor\": \"white\", \"showBackground\": true});\n\tviewer_17189102726540787.addLabel(\"N11\",{\"position\": {\"x\": -0.2263681431907604, \"y\": 2.510806382183033, \"z\": -1.6650267290392802}, \"fontSize\": 12, \"fontColor\": \"black\", \"backgroundColor\": \"white\", \"showBackground\": true});\n\tviewer_17189102726540787.addLabel(\"C12\",{\"position\": {\"x\": -0.18827153658020837, \"y\": 1.458062118378013, \"z\": -0.8181343789472987}, \"fontSize\": 12, \"fontColor\": \"black\", \"backgroundColor\": \"white\", \"showBackground\": true});\n\tviewer_17189102726540787.addLabel(\"N13\",{\"position\": {\"x\": -1.2920640911645171, \"y\": 0.5966857750575161, \"z\": -0.6541438771867603}, \"fontSize\": 12, \"fontColor\": \"black\", \"backgroundColor\": \"white\", \"showBackground\": true});\n\tviewer_17189102726540787.addLabel(\"C14\",{\"position\": {\"x\": -1.3488893342026596, \"y\": -0.45925521034037753, \"z\": 0.3103032988423041}, \"fontSize\": 12, \"fontColor\": \"black\", \"backgroundColor\": \"white\", \"showBackground\": true});\n\tviewer_17189102726540787.addLabel(\"C15\",{\"position\": {\"x\": -2.4446887902483962, \"y\": -1.4635996652847663, \"z\": -0.024195662693677168}, \"fontSize\": 12, \"fontColor\": \"black\", \"backgroundColor\": \"white\", \"showBackground\": true});\n\tviewer_17189102726540787.addLabel(\"C16\",{\"position\": {\"x\": -2.59196143761892, \"y\": -2.6317035458722904, \"z\": 0.9562400991387509}, \"fontSize\": 12, \"fontColor\": \"black\", \"backgroundColor\": \"white\", \"showBackground\": true});\n\tviewer_17189102726540787.addLabel(\"C17\",{\"position\": {\"x\": -3.642302207196857, \"y\": -3.586350451260368, \"z\": 0.5804647809675836}, \"fontSize\": 12, \"fontColor\": \"black\", \"backgroundColor\": \"white\", \"showBackground\": true});\n\tviewer_17189102726540787.addLabel(\"C18\",{\"position\": {\"x\": -3.3778078791788073, \"y\": -4.64986830600894, \"z\": -0.26547914369172027}, \"fontSize\": 12, \"fontColor\": \"black\", \"backgroundColor\": \"white\", \"showBackground\": true});\n\tviewer_17189102726540787.addLabel(\"C19\",{\"position\": {\"x\": -4.3644692618237135, \"y\": -5.55907024422395, \"z\": -0.605593830480128}, \"fontSize\": 12, \"fontColor\": \"black\", \"backgroundColor\": \"white\", \"showBackground\": true});\n\tviewer_17189102726540787.addLabel(\"C20\",{\"position\": {\"x\": -5.64327200033287, \"y\": -5.457936163121618, \"z\": -0.1297028589952962}, \"fontSize\": 12, \"fontColor\": \"black\", \"backgroundColor\": \"white\", \"showBackground\": true});\n\tviewer_17189102726540787.addLabel(\"C21\",{\"position\": {\"x\": -5.915353716528209, \"y\": -4.394754067057728, \"z\": 0.7176426882897211}, \"fontSize\": 12, \"fontColor\": \"black\", \"backgroundColor\": \"white\", \"showBackground\": true});\n\tviewer_17189102726540787.addLabel(\"C22\",{\"position\": {\"x\": -4.920774410896302, \"y\": -3.471550092242758, \"z\": 1.064041528992095}, \"fontSize\": 12, \"fontColor\": \"black\", \"backgroundColor\": \"white\", \"showBackground\": true});\n\tviewer_17189102726540787.addLabel(\"C23\",{\"position\": {\"x\": -2.7009888942948375, \"y\": -1.7621278699073848, \"z\": -1.4578141757369263}, \"fontSize\": 12, \"fontColor\": \"black\", \"backgroundColor\": \"white\", \"showBackground\": true});\n\tviewer_17189102726540787.addLabel(\"C24\",{\"position\": {\"x\": -3.727093772429727, \"y\": -1.0398357242846261, \"z\": -0.629049813172289}, \"fontSize\": 12, \"fontColor\": \"black\", \"backgroundColor\": \"white\", \"showBackground\": true});\n\tviewer_17189102726540787.addLabel(\"N25\",{\"position\": {\"x\": 0.9633486773076063, \"y\": 1.2349068578719717, \"z\": -0.17722372212012777}, \"fontSize\": 12, \"fontColor\": \"black\", \"backgroundColor\": \"white\", \"showBackground\": true});\n\tviewer_17189102726540787.addLabel(\"C26\",{\"position\": {\"x\": 2.0356094693923406, \"y\": 2.0128881349493613, \"z\": -0.3600506570175678}, \"fontSize\": 12, \"fontColor\": \"black\", \"backgroundColor\": \"white\", \"showBackground\": true});\n\tviewer_17189102726540787.addLabel(\"N27\",{\"position\": {\"x\": 3.284350412007009, \"y\": 1.7342862652881583, \"z\": 0.22140133202497472}, \"fontSize\": 12, \"fontColor\": \"black\", \"backgroundColor\": \"white\", \"showBackground\": true});\n\tviewer_17189102726540787.addLabel(\"C28\",{\"position\": {\"x\": 3.656748173147815, \"y\": 0.6316029666976142, \"z\": 0.9738018141933455}, \"fontSize\": 12, \"fontColor\": \"black\", \"backgroundColor\": \"white\", \"showBackground\": true});\n\tviewer_17189102726540787.addLabel(\"C29\",{\"position\": {\"x\": 4.857382879192172, \"y\": 0.5352344295654459, \"z\": 1.5923161331128617}, \"fontSize\": 12, \"fontColor\": \"black\", \"backgroundColor\": \"white\", \"showBackground\": true});\n\tviewer_17189102726540787.addLabel(\"C30\",{\"position\": {\"x\": 5.3933109098274, \"y\": -0.516175134626243, \"z\": 2.2632481330342893}, \"fontSize\": 12, \"fontColor\": \"black\", \"backgroundColor\": \"white\", \"showBackground\": true});\n\tviewer_17189102726540787.addLabel(\"C31\",{\"position\": {\"x\": 4.570036286663349, \"y\": -1.6745279565966575, \"z\": 2.3203227117602383}, \"fontSize\": 12, \"fontColor\": \"black\", \"backgroundColor\": \"white\", \"showBackground\": true});\n\tviewer_17189102726540787.addLabel(\"C32\",{\"position\": {\"x\": 5.143364657664595, \"y\": -2.8179343962661236, \"z\": 2.9952978053067976}, \"fontSize\": 12, \"fontColor\": \"black\", \"backgroundColor\": \"white\", \"showBackground\": true});\n\tviewer_17189102726540787.addLabel(\"C33\",{\"position\": {\"x\": 6.001226945611548, \"y\": -2.6787248201608276, \"z\": 4.089400252517171}, \"fontSize\": 12, \"fontColor\": \"black\", \"backgroundColor\": \"white\", \"showBackground\": true});\n\tviewer_17189102726540787.addLabel(\"C34\",{\"position\": {\"x\": 6.560664543640471, \"y\": -3.8392499589494733, \"z\": 4.6641957296580046}, \"fontSize\": 12, \"fontColor\": \"black\", \"backgroundColor\": \"white\", \"showBackground\": true});\n\tviewer_17189102726540787.addLabel(\"C35\",{\"position\": {\"x\": 6.291980491442696, \"y\": -5.064483153239556, \"z\": 4.190576562628961}, \"fontSize\": 12, \"fontColor\": \"black\", \"backgroundColor\": \"white\", \"showBackground\": true});\n\tviewer_17189102726540787.addLabel(\"C36\",{\"position\": {\"x\": 5.448344609861366, \"y\": -5.239127760035421, \"z\": 3.1114813839699256}, \"fontSize\": 12, \"fontColor\": \"black\", \"backgroundColor\": \"white\", \"showBackground\": true});\n\tviewer_17189102726540787.addLabel(\"C37\",{\"position\": {\"x\": 4.8929854788639044, \"y\": -4.0860502520975555, \"z\": 2.5414808405026634}, \"fontSize\": 12, \"fontColor\": \"black\", \"backgroundColor\": \"white\", \"showBackground\": true});\n\tviewer_17189102726540787.addLabel(\"C38\",{\"position\": {\"x\": 3.365350702437856, \"y\": -1.6236214859406615, \"z\": 1.7245676503375393}, \"fontSize\": 12, \"fontColor\": \"black\", \"backgroundColor\": \"white\", \"showBackground\": true});\n\tviewer_17189102726540787.addLabel(\"N39\",{\"position\": {\"x\": 2.8917286362548262, \"y\": -0.5270837432410119, \"z\": 1.066306584492424}, \"fontSize\": 12, \"fontColor\": \"black\", \"backgroundColor\": \"white\", \"showBackground\": true});\n\tviewer_17189102726540787.addLabel(\"N40\",{\"position\": {\"x\": 1.9296039433452272, \"y\": 3.0640618243388493, \"z\": -1.2305405127248366}, \"fontSize\": 12, \"fontColor\": \"black\", \"backgroundColor\": \"white\", \"showBackground\": true});\n\tviewer_17189102726540787.addLabel(\"H41\",{\"position\": {\"x\": -4.408120112582654, \"y\": 5.854309379656812, \"z\": -5.04809532607294}, \"fontSize\": 12, \"fontColor\": \"black\", \"backgroundColor\": \"white\", \"showBackground\": true});\n\tviewer_17189102726540787.addLabel(\"H42\",{\"position\": {\"x\": -1.9119584375272194, \"y\": 3.0480955096322773, \"z\": -3.3139810648792634}, \"fontSize\": 12, \"fontColor\": \"black\", \"backgroundColor\": \"white\", \"showBackground\": true});\n\tviewer_17189102726540787.addLabel(\"H43\",{\"position\": {\"x\": -2.115892295139026, \"y\": 4.229269544448039, \"z\": -1.9605736882026168}, \"fontSize\": 12, \"fontColor\": \"black\", \"backgroundColor\": \"white\", \"showBackground\": true});\n\tviewer_17189102726540787.addLabel(\"H44\",{\"position\": {\"x\": -0.5185810811577299, \"y\": 4.781742532241084, \"z\": -4.488894061082403}, \"fontSize\": 12, \"fontColor\": \"black\", \"backgroundColor\": \"white\", \"showBackground\": true});\n\tviewer_17189102726540787.addLabel(\"H45\",{\"position\": {\"x\": -1.8463447954369154, \"y\": 6.59730842384121, \"z\": -3.52084544536279}, \"fontSize\": 12, \"fontColor\": \"black\", \"backgroundColor\": \"white\", \"showBackground\": true});\n\tviewer_17189102726540787.addLabel(\"H46\",{\"position\": {\"x\": -0.11786022711697237, \"y\": 6.934187270614236, \"z\": -3.4654926515284754}, \"fontSize\": 12, \"fontColor\": \"black\", \"backgroundColor\": \"white\", \"showBackground\": true});\n\tviewer_17189102726540787.addLabel(\"H47\",{\"position\": {\"x\": -2.198609713586091, \"y\": 8.292147440632451, \"z\": -1.7436713596431448}, \"fontSize\": 12, \"fontColor\": \"black\", \"backgroundColor\": \"white\", \"showBackground\": true});\n\tviewer_17189102726540787.addLabel(\"H48\",{\"position\": {\"x\": 1.4717675930324294, \"y\": 5.054015253227292, \"z\": -2.954181777008152}, \"fontSize\": 12, \"fontColor\": \"black\", \"backgroundColor\": \"white\", \"showBackground\": true});\n\tviewer_17189102726540787.addLabel(\"H49\",{\"position\": {\"x\": -2.1012847732749935, \"y\": 0.7305630263974277, \"z\": -1.2740843761689358}, \"fontSize\": 12, \"fontColor\": \"black\", \"backgroundColor\": \"white\", \"showBackground\": true});\n\tviewer_17189102726540787.addLabel(\"H50\",{\"position\": {\"x\": -1.6802221843168987, \"y\": 0.011625325616601184, \"z\": 1.2969439092690782}, \"fontSize\": 12, \"fontColor\": \"black\", \"backgroundColor\": \"white\", \"showBackground\": true});\n\tviewer_17189102726540787.addLabel(\"H51\",{\"position\": {\"x\": -0.41414153876762777, \"y\": -0.9779291725093203, \"z\": 0.5025987160894825}, \"fontSize\": 12, \"fontColor\": \"black\", \"backgroundColor\": \"white\", \"showBackground\": true});\n\tviewer_17189102726540787.addLabel(\"H52\",{\"position\": {\"x\": -1.637565221178132, \"y\": -3.1476335490100635, \"z\": 1.1244462431044735}, \"fontSize\": 12, \"fontColor\": \"black\", \"backgroundColor\": \"white\", \"showBackground\": true});\n\tviewer_17189102726540787.addLabel(\"H53\",{\"position\": {\"x\": -2.872081667075256, \"y\": -2.154014161420217, \"z\": 1.9647679460928544}, \"fontSize\": 12, \"fontColor\": \"black\", \"backgroundColor\": \"white\", \"showBackground\": true});\n\tviewer_17189102726540787.addLabel(\"H54\",{\"position\": {\"x\": -2.379995936548768, \"y\": -4.792576721899919, \"z\": -0.6874509930547794}, \"fontSize\": 12, \"fontColor\": \"black\", \"backgroundColor\": \"white\", \"showBackground\": true});\n\tviewer_17189102726540787.addLabel(\"H55\",{\"position\": {\"x\": -4.126856825925651, \"y\": -6.38556753079078, \"z\": -1.2717860976037343}, \"fontSize\": 12, \"fontColor\": \"black\", \"backgroundColor\": \"white\", \"showBackground\": true});\n\tviewer_17189102726540787.addLabel(\"H56\",{\"position\": {\"x\": -6.402921373270121, \"y\": -6.19708373418561, \"z\": -0.41304296003517615}, \"fontSize\": 12, \"fontColor\": \"black\", \"backgroundColor\": \"white\", \"showBackground\": true});\n\tviewer_17189102726540787.addLabel(\"H57\",{\"position\": {\"x\": -6.910158963218733, \"y\": -4.299194163507064, \"z\": 1.1062079687000776}, \"fontSize\": 12, \"fontColor\": \"black\", \"backgroundColor\": \"white\", \"showBackground\": true});\n\tviewer_17189102726540787.addLabel(\"H58\",{\"position\": {\"x\": -5.256338383991529, \"y\": -2.682751961307036, \"z\": 1.7387895939407412}, \"fontSize\": 12, \"fontColor\": \"black\", \"backgroundColor\": \"white\", \"showBackground\": true});\n\tviewer_17189102726540787.addLabel(\"H59\",{\"position\": {\"x\": -2.9474913476913445, \"y\": -2.766596112700358, \"z\": -1.8179316451283085}, \"fontSize\": 12, \"fontColor\": \"black\", \"backgroundColor\": \"white\", \"showBackground\": true});\n\tviewer_17189102726540787.addLabel(\"H60\",{\"position\": {\"x\": -2.19806183749899, \"y\": -1.1351362694595246, \"z\": -2.22861377297953}, \"fontSize\": 12, \"fontColor\": \"black\", \"backgroundColor\": \"white\", \"showBackground\": true});\n\tviewer_17189102726540787.addLabel(\"H61\",{\"position\": {\"x\": -4.641224362530893, \"y\": -1.6369274260360849, \"z\": -0.4522184348469561}, \"fontSize\": 12, \"fontColor\": \"black\", \"backgroundColor\": \"white\", \"showBackground\": true});\n\tviewer_17189102726540787.addLabel(\"H62\",{\"position\": {\"x\": -3.911232001457642, \"y\": 0.02773495181556318, \"z\": -0.7876212834813505}, \"fontSize\": 12, \"fontColor\": \"black\", \"backgroundColor\": \"white\", \"showBackground\": true});\n\tviewer_17189102726540787.addLabel(\"H63\",{\"position\": {\"x\": 4.056021039341946, \"y\": 2.468974667034824, \"z\": 0.0639797899748336}, \"fontSize\": 12, \"fontColor\": \"black\", \"backgroundColor\": \"white\", \"showBackground\": true});\n\tviewer_17189102726540787.addLabel(\"H64\",{\"position\": {\"x\": 5.483786968505667, \"y\": 1.4764434921462082, \"z\": 1.5261262480028686}, \"fontSize\": 12, \"fontColor\": \"black\", \"backgroundColor\": \"white\", \"showBackground\": true});\n\tviewer_17189102726540787.addLabel(\"H65\",{\"position\": {\"x\": 6.350661311244996, \"y\": -0.5228146180987113, \"z\": 2.7281181459636916}, \"fontSize\": 12, \"fontColor\": \"black\", \"backgroundColor\": \"white\", \"showBackground\": true});\n\tviewer_17189102726540787.addLabel(\"H66\",{\"position\": {\"x\": 6.267475958756248, \"y\": -1.7467354208673183, \"z\": 4.542088204261497}, \"fontSize\": 12, \"fontColor\": \"black\", \"backgroundColor\": \"white\", \"showBackground\": true});\n\tviewer_17189102726540787.addLabel(\"H67\",{\"position\": {\"x\": 7.2351544443846185, \"y\": -3.7335121943408356, \"z\": 5.526486559425699}, \"fontSize\": 12, \"fontColor\": \"black\", \"backgroundColor\": \"white\", \"showBackground\": true});\n\tviewer_17189102726540787.addLabel(\"H68\",{\"position\": {\"x\": 6.725677405480328, \"y\": -5.951039145043924, \"z\": 4.648433528443098}, \"fontSize\": 12, \"fontColor\": \"black\", \"backgroundColor\": \"white\", \"showBackground\": true});\n\tviewer_17189102726540787.addLabel(\"H69\",{\"position\": {\"x\": 5.249705467667676, \"y\": -6.223146520146719, \"z\": 2.7388641514647327}, \"fontSize\": 12, \"fontColor\": \"black\", \"backgroundColor\": \"white\", \"showBackground\": true});\n\tviewer_17189102726540787.addLabel(\"H70\",{\"position\": {\"x\": 4.233664282205165, \"y\": -4.3082413331034575, \"z\": 1.6826962742264415}, \"fontSize\": 12, \"fontColor\": \"black\", \"backgroundColor\": \"white\", \"showBackground\": true});\n\tviewer_17189102726540787.addLabel(\"H71\",{\"position\": {\"x\": 2.717597514277311, \"y\": -2.5328405915422865, \"z\": 1.7642802544715872}, \"fontSize\": 12, \"fontColor\": \"black\", \"backgroundColor\": \"white\", \"showBackground\": true});\n\tviewer_17189102726540787.zoomTo();\nviewer_17189102726540787.render();\n});\n</script>",
            "text/html": [
              "<div id=\"3dmolviewer_17189102726540787\"  style=\"position: relative; width: 600px; height: 600px;\">\n",
              "        <p id=\"3dmolwarning_17189102726540787\" style=\"background-color:#ffcccc;color:black\">3Dmol.js failed to load for some reason.  Please check your browser console for error messages.<br></p>\n",
              "        </div>\n",
              "<script>\n",
              "\n",
              "var loadScriptAsync = function(uri){\n",
              "  return new Promise((resolve, reject) => {\n",
              "    //this is to ignore the existence of requirejs amd\n",
              "    var savedexports, savedmodule;\n",
              "    if (typeof exports !== 'undefined') savedexports = exports;\n",
              "    else exports = {}\n",
              "    if (typeof module !== 'undefined') savedmodule = module;\n",
              "    else module = {}\n",
              "\n",
              "    var tag = document.createElement('script');\n",
              "    tag.src = uri;\n",
              "    tag.async = true;\n",
              "    tag.onload = () => {\n",
              "        exports = savedexports;\n",
              "        module = savedmodule;\n",
              "        resolve();\n",
              "    };\n",
              "  var firstScriptTag = document.getElementsByTagName('script')[0];\n",
              "  firstScriptTag.parentNode.insertBefore(tag, firstScriptTag);\n",
              "});\n",
              "};\n",
              "\n",
              "if(typeof $3Dmolpromise === 'undefined') {\n",
              "$3Dmolpromise = null;\n",
              "  $3Dmolpromise = loadScriptAsync('https://cdnjs.cloudflare.com/ajax/libs/3Dmol/2.1.0/3Dmol-min.js');\n",
              "}\n",
              "\n",
              "var viewer_17189102726540787 = null;\n",
              "var warn = document.getElementById(\"3dmolwarning_17189102726540787\");\n",
              "if(warn) {\n",
              "    warn.parentNode.removeChild(warn);\n",
              "}\n",
              "$3Dmolpromise.then(function() {\n",
              "viewer_17189102726540787 = $3Dmol.createViewer(document.getElementById(\"3dmolviewer_17189102726540787\"),{backgroundColor:\"white\"});\n",
              "viewer_17189102726540787.zoomTo();\n",
              "\tviewer_17189102726540787.addModel(\"\\n     RDKit          3D\\n\\n 72 76  0  0  0  0  0  0  0  0999 V2000\\n   -3.6656    5.3322   -4.4305 C   0  0  0  0  0  0  0  0  0  0  0  0\\n   -2.9306    4.8086   -3.8382 C   0  0  0  0  0  0  0  0  0  0  0  0\\n   -1.8237    4.0485   -2.9678 C   0  0  0  0  0  0  0  0  0  0  0  0\\n   -0.5806    4.8345   -3.4015 C   0  0  1  0  0  0  0  0  0  0  0  0\\n   -0.9014    6.3110   -3.0431 C   0  0  0  0  0  0  0  0  0  0  0  0\\n   -1.1090    6.4707   -1.5862 C   0  0  0  0  0  0  0  0  0  0  0  0\\n   -0.6444    5.5966   -0.8136 O   0  0  0  0  0  0  0  0  0  0  0  0\\n   -1.8108    7.5694   -1.0672 N   0  0  0  0  0  0  0  0  0  0  0  0\\n   -2.0502    7.7098    0.9042 Dy  0  0  0  0  0  1  0  0  0  0  0  0\\n    0.6151    4.4418   -2.7563 N   0  0  0  0  0  0  0  0  0  0  0  0\\n    0.8050    3.3288   -1.8923 C   0  0  0  0  0  0  0  0  0  0  0  0\\n   -0.2264    2.5108   -1.6650 N   0  0  0  0  0  0  0  0  0  0  0  0\\n   -0.1883    1.4581   -0.8181 C   0  0  0  0  0  0  0  0  0  0  0  0\\n   -1.2921    0.5967   -0.6541 N   0  0  0  0  0  0  0  0  0  0  0  0\\n   -1.3489   -0.4593    0.3103 C   0  0  0  0  0  0  0  0  0  0  0  0\\n   -2.4447   -1.4636   -0.0242 C   0  0  0  0  0  0  0  0  0  0  0  0\\n   -2.5920   -2.6317    0.9562 C   0  0  0  0  0  0  0  0  0  0  0  0\\n   -3.6423   -3.5864    0.5805 C   0  0  0  0  0  0  0  0  0  0  0  0\\n   -3.3778   -4.6499   -0.2655 C   0  0  0  0  0  0  0  0  0  0  0  0\\n   -4.3645   -5.5591   -0.6056 C   0  0  0  0  0  0  0  0  0  0  0  0\\n   -5.6433   -5.4579   -0.1297 C   0  0  0  0  0  0  0  0  0  0  0  0\\n   -5.9154   -4.3948    0.7176 C   0  0  0  0  0  0  0  0  0  0  0  0\\n   -4.9208   -3.4716    1.0640 C   0  0  0  0  0  0  0  0  0  0  0  0\\n   -2.7010   -1.7621   -1.4578 C   0  0  0  0  0  0  0  0  0  0  0  0\\n   -3.7271   -1.0398   -0.6290 C   0  0  0  0  0  0  0  0  0  0  0  0\\n    0.9633    1.2349   -0.1772 N   0  0  0  0  0  0  0  0  0  0  0  0\\n    2.0356    2.0129   -0.3601 C   0  0  0  0  0  0  0  0  0  0  0  0\\n    3.2844    1.7343    0.2214 N   0  0  0  0  0  0  0  0  0  0  0  0\\n    3.6567    0.6316    0.9738 C   0  0  0  0  0  0  0  0  0  0  0  0\\n    4.8574    0.5352    1.5923 C   0  0  0  0  0  0  0  0  0  0  0  0\\n    5.3933   -0.5162    2.2632 C   0  0  0  0  0  0  0  0  0  0  0  0\\n    4.5700   -1.6745    2.3203 C   0  0  0  0  0  0  0  0  0  0  0  0\\n    5.1434   -2.8179    2.9953 C   0  0  0  0  0  0  0  0  0  0  0  0\\n    6.0012   -2.6787    4.0894 C   0  0  0  0  0  0  0  0  0  0  0  0\\n    6.5607   -3.8392    4.6642 C   0  0  0  0  0  0  0  0  0  0  0  0\\n    6.2920   -5.0645    4.1906 C   0  0  0  0  0  0  0  0  0  0  0  0\\n    5.4483   -5.2391    3.1115 C   0  0  0  0  0  0  0  0  0  0  0  0\\n    4.8930   -4.0861    2.5415 C   0  0  0  0  0  0  0  0  0  0  0  0\\n    3.3654   -1.6236    1.7246 C   0  0  0  0  0  0  0  0  0  0  0  0\\n    2.8917   -0.5271    1.0663 N   0  0  0  0  0  0  0  0  0  0  0  0\\n    1.9296    3.0641   -1.2305 N   0  0  0  0  0  0  0  0  0  0  0  0\\n   -4.4081    5.8543   -5.0481 H   0  0  0  0  0  0  0  0  0  0  0  0\\n   -1.9120    3.0481   -3.3140 H   0  0  0  0  0  0  0  0  0  0  0  0\\n   -2.1159    4.2293   -1.9606 H   0  0  0  0  0  0  0  0  0  0  0  0\\n   -0.5186    4.7817   -4.4889 H   0  0  0  0  0  0  0  0  0  0  0  0\\n   -1.8463    6.5973   -3.5208 H   0  0  0  0  0  0  0  0  0  0  0  0\\n   -0.1179    6.9342   -3.4655 H   0  0  0  0  0  0  0  0  0  0  0  0\\n   -2.1986    8.2921   -1.7437 H   0  0  0  0  0  0  0  0  0  0  0  0\\n    1.4718    5.0540   -2.9542 H   0  0  0  0  0  0  0  0  0  0  0  0\\n   -2.1013    0.7306   -1.2741 H   0  0  0  0  0  0  0  0  0  0  0  0\\n   -1.6802    0.0116    1.2969 H   0  0  0  0  0  0  0  0  0  0  0  0\\n   -0.4141   -0.9779    0.5026 H   0  0  0  0  0  0  0  0  0  0  0  0\\n   -1.6376   -3.1476    1.1244 H   0  0  0  0  0  0  0  0  0  0  0  0\\n   -2.8721   -2.1540    1.9648 H   0  0  0  0  0  0  0  0  0  0  0  0\\n   -2.3800   -4.7926   -0.6875 H   0  0  0  0  0  0  0  0  0  0  0  0\\n   -4.1269   -6.3856   -1.2718 H   0  0  0  0  0  0  0  0  0  0  0  0\\n   -6.4029   -6.1971   -0.4130 H   0  0  0  0  0  0  0  0  0  0  0  0\\n   -6.9102   -4.2992    1.1062 H   0  0  0  0  0  0  0  0  0  0  0  0\\n   -5.2563   -2.6828    1.7388 H   0  0  0  0  0  0  0  0  0  0  0  0\\n   -2.9475   -2.7666   -1.8179 H   0  0  0  0  0  0  0  0  0  0  0  0\\n   -2.1981   -1.1351   -2.2286 H   0  0  0  0  0  0  0  0  0  0  0  0\\n   -4.6412   -1.6369   -0.4522 H   0  0  0  0  0  0  0  0  0  0  0  0\\n   -3.9112    0.0277   -0.7876 H   0  0  0  0  0  0  0  0  0  0  0  0\\n    4.0560    2.4690    0.0640 H   0  0  0  0  0  0  0  0  0  0  0  0\\n    5.4838    1.4764    1.5261 H   0  0  0  0  0  0  0  0  0  0  0  0\\n    6.3507   -0.5228    2.7281 H   0  0  0  0  0  0  0  0  0  0  0  0\\n    6.2675   -1.7467    4.5421 H   0  0  0  0  0  0  0  0  0  0  0  0\\n    7.2352   -3.7335    5.5265 H   0  0  0  0  0  0  0  0  0  0  0  0\\n    6.7257   -5.9510    4.6484 H   0  0  0  0  0  0  0  0  0  0  0  0\\n    5.2497   -6.2231    2.7389 H   0  0  0  0  0  0  0  0  0  0  0  0\\n    4.2337   -4.3082    1.6827 H   0  0  0  0  0  0  0  0  0  0  0  0\\n    2.7176   -2.5328    1.7643 H   0  0  0  0  0  0  0  0  0  0  0  0\\n  1  2  3  0\\n  2  3  1  0\\n  3  4  1  0\\n  4  5  1  0\\n  5  6  1  0\\n  6  7  2  0\\n  6  8  1  0\\n  8  9  1  0\\n  4 10  1  0\\n 10 11  1  0\\n 11 12  2  0\\n 12 13  1  0\\n 13 14  1  0\\n 14 15  1  0\\n 15 16  1  0\\n 16 17  1  0\\n 17 18  1  0\\n 18 19  2  0\\n 19 20  1  0\\n 20 21  2  0\\n 21 22  1  0\\n 22 23  2  0\\n 16 24  1  0\\n 24 25  1  0\\n 13 26  2  0\\n 26 27  1  0\\n 27 28  1  0\\n 28 29  1  0\\n 29 30  2  0\\n 30 31  1  0\\n 31 32  2  0\\n 32 33  1  0\\n 33 34  2  0\\n 34 35  1  0\\n 35 36  2  0\\n 36 37  1  0\\n 37 38  2  0\\n 32 39  1  0\\n 39 40  2  0\\n 27 41  2  0\\n 41 11  1  0\\n 25 16  1  0\\n 40 29  1  0\\n 23 18  1  0\\n 38 33  1  0\\n  1 42  1  0\\n  3 43  1  0\\n  3 44  1  0\\n  4 45  1  6\\n  5 46  1  0\\n  5 47  1  0\\n  8 48  1  0\\n 10 49  1  0\\n 14 50  1  0\\n 15 51  1  0\\n 15 52  1  0\\n 17 53  1  0\\n 17 54  1  0\\n 19 55  1  0\\n 20 56  1  0\\n 21 57  1  0\\n 22 58  1  0\\n 23 59  1  0\\n 24 60  1  0\\n 24 61  1  0\\n 25 62  1  0\\n 25 63  1  0\\n 28 64  1  0\\n 30 65  1  0\\n 31 66  1  0\\n 34 67  1  0\\n 35 68  1  0\\n 36 69  1  0\\n 37 70  1  0\\n 38 71  1  0\\n 39 72  1  0\\nM  END\\n\",\"mol\");\n",
              "\tviewer_17189102726540787.setStyle({\"stick\": {}});\n",
              "\tviewer_17189102726540787.addLabel(\"C0\",{\"position\": {\"x\": -3.6656052071276815, \"y\": 5.332219815812336, \"z\": -4.430535532740943}, \"fontSize\": 12, \"fontColor\": \"black\", \"backgroundColor\": \"white\", \"showBackground\": true});\n",
              "\tviewer_17189102726540787.addLabel(\"C1\",{\"position\": {\"x\": -2.9306021009711607, \"y\": 4.808553873921017, \"z\": -3.8381528213235216}, \"fontSize\": 12, \"fontColor\": \"black\", \"backgroundColor\": \"white\", \"showBackground\": true});\n",
              "\tviewer_17189102726540787.addLabel(\"C2\",{\"position\": {\"x\": -1.8237379177290587, \"y\": 4.048464707520054, \"z\": -2.9678251579069905}, \"fontSize\": 12, \"fontColor\": \"black\", \"backgroundColor\": \"white\", \"showBackground\": true});\n",
              "\tviewer_17189102726540787.addLabel(\"C3\",{\"position\": {\"x\": -0.5806369590851047, \"y\": 4.83453446494401, \"z\": -3.4014674357979655}, \"fontSize\": 12, \"fontColor\": \"black\", \"backgroundColor\": \"white\", \"showBackground\": true});\n",
              "\tviewer_17189102726540787.addLabel(\"C4\",{\"position\": {\"x\": -0.9014021453286764, \"y\": 6.311003287854495, \"z\": -3.043070824501551}, \"fontSize\": 12, \"fontColor\": \"black\", \"backgroundColor\": \"white\", \"showBackground\": true});\n",
              "\tviewer_17189102726540787.addLabel(\"C5\",{\"position\": {\"x\": -1.109015153646534, \"y\": 6.470678178481991, \"z\": -1.5862219281689063}, \"fontSize\": 12, \"fontColor\": \"black\", \"backgroundColor\": \"white\", \"showBackground\": true});\n",
              "\tviewer_17189102726540787.addLabel(\"O6\",{\"position\": {\"x\": -0.6444099300893453, \"y\": 5.596602865134359, \"z\": -0.8135733605786235}, \"fontSize\": 12, \"fontColor\": \"black\", \"backgroundColor\": \"white\", \"showBackground\": true});\n",
              "\tviewer_17189102726540787.addLabel(\"N7\",{\"position\": {\"x\": -1.8107922701810353, \"y\": 7.569358766446861, \"z\": -1.067232860809479}, \"fontSize\": 12, \"fontColor\": \"black\", \"backgroundColor\": \"white\", \"showBackground\": true});\n",
              "\tviewer_17189102726540787.addLabel(\"Dy8\",{\"position\": {\"x\": -2.050177013851409, \"y\": 7.709835708393986, \"z\": 0.904177393220971}, \"fontSize\": 12, \"fontColor\": \"black\", \"backgroundColor\": \"white\", \"showBackground\": true});\n",
              "\tviewer_17189102726540787.addLabel(\"N9\",{\"position\": {\"x\": 0.6151011611355215, \"y\": 4.441803009295829, \"z\": -2.7562502108819236}, \"fontSize\": 12, \"fontColor\": \"black\", \"backgroundColor\": \"white\", \"showBackground\": true});\n",
              "\tviewer_17189102726540787.addLabel(\"C10\",{\"position\": {\"x\": 0.8049772903017982, \"y\": 3.328764377257339, \"z\": -1.8923238248584084}, \"fontSize\": 12, \"fontColor\": \"black\", \"backgroundColor\": \"white\", \"showBackground\": true});\n",
              "\tviewer_17189102726540787.addLabel(\"N11\",{\"position\": {\"x\": -0.2263681431907604, \"y\": 2.510806382183033, \"z\": -1.6650267290392802}, \"fontSize\": 12, \"fontColor\": \"black\", \"backgroundColor\": \"white\", \"showBackground\": true});\n",
              "\tviewer_17189102726540787.addLabel(\"C12\",{\"position\": {\"x\": -0.18827153658020837, \"y\": 1.458062118378013, \"z\": -0.8181343789472987}, \"fontSize\": 12, \"fontColor\": \"black\", \"backgroundColor\": \"white\", \"showBackground\": true});\n",
              "\tviewer_17189102726540787.addLabel(\"N13\",{\"position\": {\"x\": -1.2920640911645171, \"y\": 0.5966857750575161, \"z\": -0.6541438771867603}, \"fontSize\": 12, \"fontColor\": \"black\", \"backgroundColor\": \"white\", \"showBackground\": true});\n",
              "\tviewer_17189102726540787.addLabel(\"C14\",{\"position\": {\"x\": -1.3488893342026596, \"y\": -0.45925521034037753, \"z\": 0.3103032988423041}, \"fontSize\": 12, \"fontColor\": \"black\", \"backgroundColor\": \"white\", \"showBackground\": true});\n",
              "\tviewer_17189102726540787.addLabel(\"C15\",{\"position\": {\"x\": -2.4446887902483962, \"y\": -1.4635996652847663, \"z\": -0.024195662693677168}, \"fontSize\": 12, \"fontColor\": \"black\", \"backgroundColor\": \"white\", \"showBackground\": true});\n",
              "\tviewer_17189102726540787.addLabel(\"C16\",{\"position\": {\"x\": -2.59196143761892, \"y\": -2.6317035458722904, \"z\": 0.9562400991387509}, \"fontSize\": 12, \"fontColor\": \"black\", \"backgroundColor\": \"white\", \"showBackground\": true});\n",
              "\tviewer_17189102726540787.addLabel(\"C17\",{\"position\": {\"x\": -3.642302207196857, \"y\": -3.586350451260368, \"z\": 0.5804647809675836}, \"fontSize\": 12, \"fontColor\": \"black\", \"backgroundColor\": \"white\", \"showBackground\": true});\n",
              "\tviewer_17189102726540787.addLabel(\"C18\",{\"position\": {\"x\": -3.3778078791788073, \"y\": -4.64986830600894, \"z\": -0.26547914369172027}, \"fontSize\": 12, \"fontColor\": \"black\", \"backgroundColor\": \"white\", \"showBackground\": true});\n",
              "\tviewer_17189102726540787.addLabel(\"C19\",{\"position\": {\"x\": -4.3644692618237135, \"y\": -5.55907024422395, \"z\": -0.605593830480128}, \"fontSize\": 12, \"fontColor\": \"black\", \"backgroundColor\": \"white\", \"showBackground\": true});\n",
              "\tviewer_17189102726540787.addLabel(\"C20\",{\"position\": {\"x\": -5.64327200033287, \"y\": -5.457936163121618, \"z\": -0.1297028589952962}, \"fontSize\": 12, \"fontColor\": \"black\", \"backgroundColor\": \"white\", \"showBackground\": true});\n",
              "\tviewer_17189102726540787.addLabel(\"C21\",{\"position\": {\"x\": -5.915353716528209, \"y\": -4.394754067057728, \"z\": 0.7176426882897211}, \"fontSize\": 12, \"fontColor\": \"black\", \"backgroundColor\": \"white\", \"showBackground\": true});\n",
              "\tviewer_17189102726540787.addLabel(\"C22\",{\"position\": {\"x\": -4.920774410896302, \"y\": -3.471550092242758, \"z\": 1.064041528992095}, \"fontSize\": 12, \"fontColor\": \"black\", \"backgroundColor\": \"white\", \"showBackground\": true});\n",
              "\tviewer_17189102726540787.addLabel(\"C23\",{\"position\": {\"x\": -2.7009888942948375, \"y\": -1.7621278699073848, \"z\": -1.4578141757369263}, \"fontSize\": 12, \"fontColor\": \"black\", \"backgroundColor\": \"white\", \"showBackground\": true});\n",
              "\tviewer_17189102726540787.addLabel(\"C24\",{\"position\": {\"x\": -3.727093772429727, \"y\": -1.0398357242846261, \"z\": -0.629049813172289}, \"fontSize\": 12, \"fontColor\": \"black\", \"backgroundColor\": \"white\", \"showBackground\": true});\n",
              "\tviewer_17189102726540787.addLabel(\"N25\",{\"position\": {\"x\": 0.9633486773076063, \"y\": 1.2349068578719717, \"z\": -0.17722372212012777}, \"fontSize\": 12, \"fontColor\": \"black\", \"backgroundColor\": \"white\", \"showBackground\": true});\n",
              "\tviewer_17189102726540787.addLabel(\"C26\",{\"position\": {\"x\": 2.0356094693923406, \"y\": 2.0128881349493613, \"z\": -0.3600506570175678}, \"fontSize\": 12, \"fontColor\": \"black\", \"backgroundColor\": \"white\", \"showBackground\": true});\n",
              "\tviewer_17189102726540787.addLabel(\"N27\",{\"position\": {\"x\": 3.284350412007009, \"y\": 1.7342862652881583, \"z\": 0.22140133202497472}, \"fontSize\": 12, \"fontColor\": \"black\", \"backgroundColor\": \"white\", \"showBackground\": true});\n",
              "\tviewer_17189102726540787.addLabel(\"C28\",{\"position\": {\"x\": 3.656748173147815, \"y\": 0.6316029666976142, \"z\": 0.9738018141933455}, \"fontSize\": 12, \"fontColor\": \"black\", \"backgroundColor\": \"white\", \"showBackground\": true});\n",
              "\tviewer_17189102726540787.addLabel(\"C29\",{\"position\": {\"x\": 4.857382879192172, \"y\": 0.5352344295654459, \"z\": 1.5923161331128617}, \"fontSize\": 12, \"fontColor\": \"black\", \"backgroundColor\": \"white\", \"showBackground\": true});\n",
              "\tviewer_17189102726540787.addLabel(\"C30\",{\"position\": {\"x\": 5.3933109098274, \"y\": -0.516175134626243, \"z\": 2.2632481330342893}, \"fontSize\": 12, \"fontColor\": \"black\", \"backgroundColor\": \"white\", \"showBackground\": true});\n",
              "\tviewer_17189102726540787.addLabel(\"C31\",{\"position\": {\"x\": 4.570036286663349, \"y\": -1.6745279565966575, \"z\": 2.3203227117602383}, \"fontSize\": 12, \"fontColor\": \"black\", \"backgroundColor\": \"white\", \"showBackground\": true});\n",
              "\tviewer_17189102726540787.addLabel(\"C32\",{\"position\": {\"x\": 5.143364657664595, \"y\": -2.8179343962661236, \"z\": 2.9952978053067976}, \"fontSize\": 12, \"fontColor\": \"black\", \"backgroundColor\": \"white\", \"showBackground\": true});\n",
              "\tviewer_17189102726540787.addLabel(\"C33\",{\"position\": {\"x\": 6.001226945611548, \"y\": -2.6787248201608276, \"z\": 4.089400252517171}, \"fontSize\": 12, \"fontColor\": \"black\", \"backgroundColor\": \"white\", \"showBackground\": true});\n",
              "\tviewer_17189102726540787.addLabel(\"C34\",{\"position\": {\"x\": 6.560664543640471, \"y\": -3.8392499589494733, \"z\": 4.6641957296580046}, \"fontSize\": 12, \"fontColor\": \"black\", \"backgroundColor\": \"white\", \"showBackground\": true});\n",
              "\tviewer_17189102726540787.addLabel(\"C35\",{\"position\": {\"x\": 6.291980491442696, \"y\": -5.064483153239556, \"z\": 4.190576562628961}, \"fontSize\": 12, \"fontColor\": \"black\", \"backgroundColor\": \"white\", \"showBackground\": true});\n",
              "\tviewer_17189102726540787.addLabel(\"C36\",{\"position\": {\"x\": 5.448344609861366, \"y\": -5.239127760035421, \"z\": 3.1114813839699256}, \"fontSize\": 12, \"fontColor\": \"black\", \"backgroundColor\": \"white\", \"showBackground\": true});\n",
              "\tviewer_17189102726540787.addLabel(\"C37\",{\"position\": {\"x\": 4.8929854788639044, \"y\": -4.0860502520975555, \"z\": 2.5414808405026634}, \"fontSize\": 12, \"fontColor\": \"black\", \"backgroundColor\": \"white\", \"showBackground\": true});\n",
              "\tviewer_17189102726540787.addLabel(\"C38\",{\"position\": {\"x\": 3.365350702437856, \"y\": -1.6236214859406615, \"z\": 1.7245676503375393}, \"fontSize\": 12, \"fontColor\": \"black\", \"backgroundColor\": \"white\", \"showBackground\": true});\n",
              "\tviewer_17189102726540787.addLabel(\"N39\",{\"position\": {\"x\": 2.8917286362548262, \"y\": -0.5270837432410119, \"z\": 1.066306584492424}, \"fontSize\": 12, \"fontColor\": \"black\", \"backgroundColor\": \"white\", \"showBackground\": true});\n",
              "\tviewer_17189102726540787.addLabel(\"N40\",{\"position\": {\"x\": 1.9296039433452272, \"y\": 3.0640618243388493, \"z\": -1.2305405127248366}, \"fontSize\": 12, \"fontColor\": \"black\", \"backgroundColor\": \"white\", \"showBackground\": true});\n",
              "\tviewer_17189102726540787.addLabel(\"H41\",{\"position\": {\"x\": -4.408120112582654, \"y\": 5.854309379656812, \"z\": -5.04809532607294}, \"fontSize\": 12, \"fontColor\": \"black\", \"backgroundColor\": \"white\", \"showBackground\": true});\n",
              "\tviewer_17189102726540787.addLabel(\"H42\",{\"position\": {\"x\": -1.9119584375272194, \"y\": 3.0480955096322773, \"z\": -3.3139810648792634}, \"fontSize\": 12, \"fontColor\": \"black\", \"backgroundColor\": \"white\", \"showBackground\": true});\n",
              "\tviewer_17189102726540787.addLabel(\"H43\",{\"position\": {\"x\": -2.115892295139026, \"y\": 4.229269544448039, \"z\": -1.9605736882026168}, \"fontSize\": 12, \"fontColor\": \"black\", \"backgroundColor\": \"white\", \"showBackground\": true});\n",
              "\tviewer_17189102726540787.addLabel(\"H44\",{\"position\": {\"x\": -0.5185810811577299, \"y\": 4.781742532241084, \"z\": -4.488894061082403}, \"fontSize\": 12, \"fontColor\": \"black\", \"backgroundColor\": \"white\", \"showBackground\": true});\n",
              "\tviewer_17189102726540787.addLabel(\"H45\",{\"position\": {\"x\": -1.8463447954369154, \"y\": 6.59730842384121, \"z\": -3.52084544536279}, \"fontSize\": 12, \"fontColor\": \"black\", \"backgroundColor\": \"white\", \"showBackground\": true});\n",
              "\tviewer_17189102726540787.addLabel(\"H46\",{\"position\": {\"x\": -0.11786022711697237, \"y\": 6.934187270614236, \"z\": -3.4654926515284754}, \"fontSize\": 12, \"fontColor\": \"black\", \"backgroundColor\": \"white\", \"showBackground\": true});\n",
              "\tviewer_17189102726540787.addLabel(\"H47\",{\"position\": {\"x\": -2.198609713586091, \"y\": 8.292147440632451, \"z\": -1.7436713596431448}, \"fontSize\": 12, \"fontColor\": \"black\", \"backgroundColor\": \"white\", \"showBackground\": true});\n",
              "\tviewer_17189102726540787.addLabel(\"H48\",{\"position\": {\"x\": 1.4717675930324294, \"y\": 5.054015253227292, \"z\": -2.954181777008152}, \"fontSize\": 12, \"fontColor\": \"black\", \"backgroundColor\": \"white\", \"showBackground\": true});\n",
              "\tviewer_17189102726540787.addLabel(\"H49\",{\"position\": {\"x\": -2.1012847732749935, \"y\": 0.7305630263974277, \"z\": -1.2740843761689358}, \"fontSize\": 12, \"fontColor\": \"black\", \"backgroundColor\": \"white\", \"showBackground\": true});\n",
              "\tviewer_17189102726540787.addLabel(\"H50\",{\"position\": {\"x\": -1.6802221843168987, \"y\": 0.011625325616601184, \"z\": 1.2969439092690782}, \"fontSize\": 12, \"fontColor\": \"black\", \"backgroundColor\": \"white\", \"showBackground\": true});\n",
              "\tviewer_17189102726540787.addLabel(\"H51\",{\"position\": {\"x\": -0.41414153876762777, \"y\": -0.9779291725093203, \"z\": 0.5025987160894825}, \"fontSize\": 12, \"fontColor\": \"black\", \"backgroundColor\": \"white\", \"showBackground\": true});\n",
              "\tviewer_17189102726540787.addLabel(\"H52\",{\"position\": {\"x\": -1.637565221178132, \"y\": -3.1476335490100635, \"z\": 1.1244462431044735}, \"fontSize\": 12, \"fontColor\": \"black\", \"backgroundColor\": \"white\", \"showBackground\": true});\n",
              "\tviewer_17189102726540787.addLabel(\"H53\",{\"position\": {\"x\": -2.872081667075256, \"y\": -2.154014161420217, \"z\": 1.9647679460928544}, \"fontSize\": 12, \"fontColor\": \"black\", \"backgroundColor\": \"white\", \"showBackground\": true});\n",
              "\tviewer_17189102726540787.addLabel(\"H54\",{\"position\": {\"x\": -2.379995936548768, \"y\": -4.792576721899919, \"z\": -0.6874509930547794}, \"fontSize\": 12, \"fontColor\": \"black\", \"backgroundColor\": \"white\", \"showBackground\": true});\n",
              "\tviewer_17189102726540787.addLabel(\"H55\",{\"position\": {\"x\": -4.126856825925651, \"y\": -6.38556753079078, \"z\": -1.2717860976037343}, \"fontSize\": 12, \"fontColor\": \"black\", \"backgroundColor\": \"white\", \"showBackground\": true});\n",
              "\tviewer_17189102726540787.addLabel(\"H56\",{\"position\": {\"x\": -6.402921373270121, \"y\": -6.19708373418561, \"z\": -0.41304296003517615}, \"fontSize\": 12, \"fontColor\": \"black\", \"backgroundColor\": \"white\", \"showBackground\": true});\n",
              "\tviewer_17189102726540787.addLabel(\"H57\",{\"position\": {\"x\": -6.910158963218733, \"y\": -4.299194163507064, \"z\": 1.1062079687000776}, \"fontSize\": 12, \"fontColor\": \"black\", \"backgroundColor\": \"white\", \"showBackground\": true});\n",
              "\tviewer_17189102726540787.addLabel(\"H58\",{\"position\": {\"x\": -5.256338383991529, \"y\": -2.682751961307036, \"z\": 1.7387895939407412}, \"fontSize\": 12, \"fontColor\": \"black\", \"backgroundColor\": \"white\", \"showBackground\": true});\n",
              "\tviewer_17189102726540787.addLabel(\"H59\",{\"position\": {\"x\": -2.9474913476913445, \"y\": -2.766596112700358, \"z\": -1.8179316451283085}, \"fontSize\": 12, \"fontColor\": \"black\", \"backgroundColor\": \"white\", \"showBackground\": true});\n",
              "\tviewer_17189102726540787.addLabel(\"H60\",{\"position\": {\"x\": -2.19806183749899, \"y\": -1.1351362694595246, \"z\": -2.22861377297953}, \"fontSize\": 12, \"fontColor\": \"black\", \"backgroundColor\": \"white\", \"showBackground\": true});\n",
              "\tviewer_17189102726540787.addLabel(\"H61\",{\"position\": {\"x\": -4.641224362530893, \"y\": -1.6369274260360849, \"z\": -0.4522184348469561}, \"fontSize\": 12, \"fontColor\": \"black\", \"backgroundColor\": \"white\", \"showBackground\": true});\n",
              "\tviewer_17189102726540787.addLabel(\"H62\",{\"position\": {\"x\": -3.911232001457642, \"y\": 0.02773495181556318, \"z\": -0.7876212834813505}, \"fontSize\": 12, \"fontColor\": \"black\", \"backgroundColor\": \"white\", \"showBackground\": true});\n",
              "\tviewer_17189102726540787.addLabel(\"H63\",{\"position\": {\"x\": 4.056021039341946, \"y\": 2.468974667034824, \"z\": 0.0639797899748336}, \"fontSize\": 12, \"fontColor\": \"black\", \"backgroundColor\": \"white\", \"showBackground\": true});\n",
              "\tviewer_17189102726540787.addLabel(\"H64\",{\"position\": {\"x\": 5.483786968505667, \"y\": 1.4764434921462082, \"z\": 1.5261262480028686}, \"fontSize\": 12, \"fontColor\": \"black\", \"backgroundColor\": \"white\", \"showBackground\": true});\n",
              "\tviewer_17189102726540787.addLabel(\"H65\",{\"position\": {\"x\": 6.350661311244996, \"y\": -0.5228146180987113, \"z\": 2.7281181459636916}, \"fontSize\": 12, \"fontColor\": \"black\", \"backgroundColor\": \"white\", \"showBackground\": true});\n",
              "\tviewer_17189102726540787.addLabel(\"H66\",{\"position\": {\"x\": 6.267475958756248, \"y\": -1.7467354208673183, \"z\": 4.542088204261497}, \"fontSize\": 12, \"fontColor\": \"black\", \"backgroundColor\": \"white\", \"showBackground\": true});\n",
              "\tviewer_17189102726540787.addLabel(\"H67\",{\"position\": {\"x\": 7.2351544443846185, \"y\": -3.7335121943408356, \"z\": 5.526486559425699}, \"fontSize\": 12, \"fontColor\": \"black\", \"backgroundColor\": \"white\", \"showBackground\": true});\n",
              "\tviewer_17189102726540787.addLabel(\"H68\",{\"position\": {\"x\": 6.725677405480328, \"y\": -5.951039145043924, \"z\": 4.648433528443098}, \"fontSize\": 12, \"fontColor\": \"black\", \"backgroundColor\": \"white\", \"showBackground\": true});\n",
              "\tviewer_17189102726540787.addLabel(\"H69\",{\"position\": {\"x\": 5.249705467667676, \"y\": -6.223146520146719, \"z\": 2.7388641514647327}, \"fontSize\": 12, \"fontColor\": \"black\", \"backgroundColor\": \"white\", \"showBackground\": true});\n",
              "\tviewer_17189102726540787.addLabel(\"H70\",{\"position\": {\"x\": 4.233664282205165, \"y\": -4.3082413331034575, \"z\": 1.6826962742264415}, \"fontSize\": 12, \"fontColor\": \"black\", \"backgroundColor\": \"white\", \"showBackground\": true});\n",
              "\tviewer_17189102726540787.addLabel(\"H71\",{\"position\": {\"x\": 2.717597514277311, \"y\": -2.5328405915422865, \"z\": 1.7642802544715872}, \"fontSize\": 12, \"fontColor\": \"black\", \"backgroundColor\": \"white\", \"showBackground\": true});\n",
              "\tviewer_17189102726540787.zoomTo();\n",
              "viewer_17189102726540787.render();\n",
              "});\n",
              "</script>"
            ]
          },
          "metadata": {}
        }
      ]
    },
    {
      "cell_type": "code",
      "source": [
        "view = py3Dmol.view()\n",
        "view.addModel(open('5RH2.pdb', 'r').read(),'pdb')\n",
        "view.setBackgroundColor('white')\n",
        "view.setStyle({'chain':'A'}, {'cartoon': {'color':'purple'}})\n",
        "view.addStyle({'resn':'UH7'}, {'stick': {'colorscheme':'yellowCarbon'}})\n",
        "view.addStyle({'within':{'distance':'5', 'sel':{'resn':'UH7'}}}, {'stick': {}})\n",
        "view.zoomTo()\n",
        "view.show()"
      ],
      "metadata": {
        "id": "CCYjvXzukull"
      },
      "execution_count": null,
      "outputs": []
    },
    {
      "cell_type": "markdown",
      "source": [
        "Try playing with the view by using the mouse controls\n",
        "\n",
        "| Movement | Mouse Input |\tTouch Input |\n",
        "| -------- | ----------- | -----------  |\n",
        "| Rotation |\tPrimary Mouse Button | Single touch |\n",
        "| Translation\t| Middle Mouse Button or Ctrl+Primary\t| Triple touch |\n",
        "| Zoom | Scroll Wheel or Second Mouse Button or Shift+Primary | Pinch (double touch) |\n",
        "| Slab |\tCtrl+Second |\tNot Available |\n",
        "\n",
        "Also, try to change the view by removing or modifying the styles.\n"
      ],
      "metadata": {
        "id": "x-q7Kjlwl8r-"
      }
    },
    {
      "cell_type": "markdown",
      "source": [
        "## Surfaces\n",
        "\n",
        "Now let's try adding a [surface](https://3dmol.csb.pitt.edu/doc/$3Dmol.GLViewer.html#addSurface)."
      ],
      "metadata": {
        "id": "QShHDiwMxPEV"
      }
    },
    {
      "cell_type": "code",
      "source": [
        "view = py3Dmol.view()\n",
        "view.addModel(open('5RH2.pdb', 'r').read(),'pdb')\n",
        "view.setBackgroundColor('white')\n",
        "view.setStyle({'chain':'A'}, {'cartoon': {'color':'purple'}})\n",
        "view.addStyle({'resn':'UH7'}, {'stick': {'colorscheme':'yellowCarbon'}})\n",
        "view.addStyle({'within':{'distance':'5', 'sel':{'resn':'UH7'}}}, {'stick': {}})\n",
        "view.addSurface(py3Dmol.VDW, {'opacity':0.85, 'color':'grey'}, \\\n",
        "  {'not':{'or':[{'resn':'UH7'}, {'resn':'DMS'}]}})\n",
        "view.zoomTo()\n",
        "view.show()"
      ],
      "metadata": {
        "id": "CAe3f28AxYp3"
      },
      "execution_count": null,
      "outputs": []
    }
  ]
}